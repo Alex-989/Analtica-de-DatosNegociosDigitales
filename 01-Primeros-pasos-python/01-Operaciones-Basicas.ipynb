{
 "cells": [
  {
   "cell_type": "markdown",
   "id": "7e8ed67c",
   "metadata": {},
   "source": [
    "# Operaciones Basicas en Python"
   ]
  },
  {
   "cell_type": "markdown",
   "id": "b7b8c299",
   "metadata": {},
   "source": [
    "## Declaracion de variables y asignacion de datos\n",
    "-- Se describen los tipos de datos existentes en Python "
   ]
  },
  {
   "cell_type": "code",
   "execution_count": null,
   "id": "03259240",
   "metadata": {},
   "outputs": [],
   "source": [
    "# Declaracion de variables\n",
    "a = 1 # Variable de tipo Int\n",
    "b = 2.3 # Variable de tipo float\n",
    "c = True # Variable tipo bool\n",
    "d = False # Variable de tipo bool\n",
    "e = \"Hola Mundo!\" # Variable de tipo cadena de texto\n",
    "f = 'Hola Negocios Digitales' # Variable de tipo cadena de texto"
   ]
  }
 ],
 "metadata": {
  "kernelspec": {
   "display_name": "base",
   "language": "python",
   "name": "python3"
  },
  "language_info": {
   "codemirror_mode": {
    "name": "ipython",
    "version": 3
   },
   "file_extension": ".py",
   "mimetype": "text/x-python",
   "name": "python",
   "nbconvert_exporter": "python",
   "pygments_lexer": "ipython3",
   "version": "3.12.7"
  }
 },
 "nbformat": 4,
 "nbformat_minor": 5
}
