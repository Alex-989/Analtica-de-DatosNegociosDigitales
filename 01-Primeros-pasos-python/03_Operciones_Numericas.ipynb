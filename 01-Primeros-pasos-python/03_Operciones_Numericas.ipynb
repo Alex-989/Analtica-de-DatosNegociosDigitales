{
 "cells": [
  {
   "cell_type": "markdown",
   "id": "25ea5162",
   "metadata": {},
   "source": [
    "## Operciones Númericas\n",
    "\n",
    "### Objetivos\n",
    "\n",
    "- Mostrar como se utilizan  los operddores ritmaticos"
   ]
  },
  {
   "cell_type": "markdown",
   "id": "114be6b7",
   "metadata": {},
   "source": [
    "## Desarrollo\n",
    "\n",
    "- Primero Vamos asignar unas variables"
   ]
  },
  {
   "cell_type": "code",
   "execution_count": 1,
   "id": "fbf1052b",
   "metadata": {},
   "outputs": [],
   "source": [
    "var_1 = 4\n",
    "var_2 = 54\n",
    "var_3 = 23\n",
    "var_4 = 89"
   ]
  },
  {
   "cell_type": "code",
   "execution_count": 4,
   "id": "f4bd5ec5",
   "metadata": {},
   "outputs": [
    {
     "name": "stdout",
     "output_type": "stream",
     "text": [
      "4-54-23-89\n",
      "El valor de variable var_1: 4\n"
     ]
    }
   ],
   "source": [
    "#print(var_1, var_2, var_3, var_, end=\" \")\n",
    "print(var_1, var_2, var_3, var_4, sep='-')\n",
    "\n",
    "print('El valor de variable var_1: ' + str(var_1))\n",
    "#print('El valor de variable var_1: ' , var_1 '\\nEl valor de la variable var_1 ' , var_2)"
   ]
  },
  {
   "cell_type": "markdown",
   "id": "55024f77",
   "metadata": {},
   "source": [
    "## Operaciones númericas\n",
    "\n",
    "| Operador | Nombre                  | Descripción                                 | Ejemplo        | Resultado |\n",
    "|----------|-------------------------|---------------------------------------------|----------------|-----------|\n",
    "| `+`      | Suma                    | Suma de dos operandos                        | `5 + 3`        | `8`       |\n",
    "| `-`      | Resta                   | Resta del segundo operando al primero        | `5 - 3`        | `2`       |\n",
    "| `*`      | Multiplicación          | Producto de dos operandos                    | `5 * 3`        | `15`      |\n",
    "| `/`      | División                | División del primero entre el segundo       | `5 / 2`        | `2.5`     |\n",
    "| `//`     | División entera         | División y redondeo hacia abajo             | `5 // 2`       | `2`       |\n",
    "| `%`      | Módulo (residuo)        | Residuo de la división                      | `5 % 2`        | `1`       |\n",
    "| `**`     | Exponente               | Potencia del primer operando al segundo     | `2 ** 3`       | `8`       |"
   ]
  },
  {
   "cell_type": "code",
   "execution_count": 5,
   "id": "61f2891e",
   "metadata": {},
   "outputs": [
    {
     "data": {
      "text/plain": [
       "58"
      ]
     },
     "execution_count": 5,
     "metadata": {},
     "output_type": "execute_result"
    }
   ],
   "source": [
    "var_1 + var_2"
   ]
  },
  {
   "cell_type": "code",
   "execution_count": 6,
   "id": "98376fd1",
   "metadata": {},
   "outputs": [
    {
     "data": {
      "text/plain": [
       "-35"
      ]
     },
     "execution_count": 6,
     "metadata": {},
     "output_type": "execute_result"
    }
   ],
   "source": [
    "var_2 - var_4"
   ]
  },
  {
   "cell_type": "code",
   "execution_count": 8,
   "id": "7dc29a64",
   "metadata": {},
   "outputs": [
    {
     "data": {
      "text/plain": [
       "1242"
      ]
     },
     "execution_count": 8,
     "metadata": {},
     "output_type": "execute_result"
    }
   ],
   "source": [
    "var_3 * var_2"
   ]
  },
  {
   "cell_type": "code",
   "execution_count": 10,
   "id": "a2f0babc",
   "metadata": {},
   "outputs": [
    {
     "data": {
      "text/plain": [
       "1"
      ]
     },
     "execution_count": 10,
     "metadata": {},
     "output_type": "execute_result"
    }
   ],
   "source": [
    "var_4 // var_2"
   ]
  },
  {
   "cell_type": "code",
   "execution_count": 11,
   "id": "e0fc7d47",
   "metadata": {},
   "outputs": [
    {
     "data": {
      "text/plain": [
       "0.5"
      ]
     },
     "execution_count": 11,
     "metadata": {},
     "output_type": "execute_result"
    }
   ],
   "source": [
    "1/2"
   ]
  },
  {
   "cell_type": "code",
   "execution_count": 12,
   "id": "5c31bb72",
   "metadata": {},
   "outputs": [
    {
     "data": {
      "text/plain": [
       "0"
      ]
     },
     "execution_count": 12,
     "metadata": {},
     "output_type": "execute_result"
    }
   ],
   "source": [
    "1//2"
   ]
  },
  {
   "cell_type": "code",
   "execution_count": 13,
   "id": "8a1217b0",
   "metadata": {},
   "outputs": [
    {
     "data": {
      "text/plain": [
       "8503056"
      ]
     },
     "execution_count": 13,
     "metadata": {},
     "output_type": "execute_result"
    }
   ],
   "source": [
    "var_2 ** var_1"
   ]
  },
  {
   "cell_type": "code",
   "execution_count": 14,
   "id": "33dc16dc",
   "metadata": {},
   "outputs": [
    {
     "data": {
      "text/plain": [
       "0"
      ]
     },
     "execution_count": 14,
     "metadata": {},
     "output_type": "execute_result"
    }
   ],
   "source": [
    "var_1 = 10\n",
    "var_2 = 2\n",
    "\n",
    "var_1 % var_2"
   ]
  },
  {
   "cell_type": "code",
   "execution_count": 16,
   "id": "5ba78c63",
   "metadata": {},
   "outputs": [
    {
     "name": "stdout",
     "output_type": "stream",
     "text": [
      "12\n",
      "20\n",
      "100\n"
     ]
    }
   ],
   "source": [
    "print(var_1 + var_2)\n",
    "print(var_1 * var_2)\n",
    "print(var_1 ** var_2)"
   ]
  },
  {
   "cell_type": "markdown",
   "id": "a3568001",
   "metadata": {},
   "source": [
    "### Tambien se puede asignar los resultados de las operaciones a otras variables"
   ]
  },
  {
   "cell_type": "code",
   "execution_count": 17,
   "id": "9e661cbd",
   "metadata": {},
   "outputs": [
    {
     "data": {
      "text/plain": [
       "33"
      ]
     },
     "execution_count": 17,
     "metadata": {},
     "output_type": "execute_result"
    }
   ],
   "source": [
    "resultado = var_1 + var_3\n",
    "resultado"
   ]
  },
  {
   "cell_type": "markdown",
   "id": "a22376f3",
   "metadata": {},
   "source": []
  }
 ],
 "metadata": {
  "kernelspec": {
   "display_name": "Python 3",
   "language": "python",
   "name": "python3"
  },
  "language_info": {
   "codemirror_mode": {
    "name": "ipython",
    "version": 3
   },
   "file_extension": ".py",
   "mimetype": "text/x-python",
   "name": "python",
   "nbconvert_exporter": "python",
   "pygments_lexer": "ipython3",
   "version": "3.13.3"
  }
 },
 "nbformat": 4,
 "nbformat_minor": 5
}
