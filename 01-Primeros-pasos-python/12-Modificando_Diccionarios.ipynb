{
 "cells": [
  {
   "cell_type": "markdown",
   "id": "5f502aa7",
   "metadata": {},
   "source": [
    "># Modificando Diccionarios"
   ]
  },
  {
   "cell_type": "markdown",
   "id": "ee8c3f58",
   "metadata": {},
   "source": [
    "## 1. Objetivos\n",
    "\n",
    "- Practicar los 3 metodos basicos de modificacion de diccionarios: **agregar datos, modificar datos y borrar llaves**"
   ]
  },
  {
   "cell_type": "markdown",
   "id": "d825299c",
   "metadata": {},
   "source": [
    "## 2. Desarrollo\n",
    "\n",
    "Tenemos 3 maneras basicas de modificar los diccionarios\n",
    "\n",
    "---"
   ]
  },
  {
   "cell_type": "markdown",
   "id": "6b4509e5",
   "metadata": {},
   "source": [
    "### Agregar Datos\n",
    "\n",
    "Para agregar un dato a un diccionario ya existente, basta con llamar la llave que queremos agregar y asignar un valor"
   ]
  },
  {
   "cell_type": "code",
   "execution_count": 1,
   "id": "7ae15543",
   "metadata": {},
   "outputs": [],
   "source": [
    "from pprint import pprint"
   ]
  },
  {
   "cell_type": "code",
   "execution_count": 16,
   "id": "d1104068",
   "metadata": {},
   "outputs": [
    {
     "name": "stdout",
     "output_type": "stream",
     "text": [
      "{'Nombre': 'Maluma', 'Telefono': 123456789, 'Direccion': {'Colonia': 'El llano', 'Calle': 'Bernardo Reyes', 'Numero': 13, 'Codigo_Postal': 42803}}\n"
     ]
    }
   ],
   "source": [
    "info_de_contacto = {\n",
    "\n",
    "    'Nombre':'Maluma',\n",
    "    'Telefono': 123456789,\n",
    "    'Direccion':{\n",
    "        'Colonia': 'El llano',\n",
    "        'Calle': 'Bernardo Reyes',\n",
    "        'Numero': 13,\n",
    "        'Codigo_Postal':42803\n",
    "    }\n",
    "}\n",
    "\n",
    "print(info_de_contacto)"
   ]
  },
  {
   "cell_type": "code",
   "execution_count": 17,
   "id": "d1d3fc8f",
   "metadata": {},
   "outputs": [
    {
     "name": "stdout",
     "output_type": "stream",
     "text": [
      "{'Direccion': {'Calle': 'Bernardo Reyes',\n",
      "               'Codigo_Postal': 42803,\n",
      "               'Colonia': 'El llano',\n",
      "               'Numero': 13},\n",
      " 'Nombre': 'Maluma',\n",
      " 'Telefono': 123456789}\n"
     ]
    }
   ],
   "source": [
    "pprint(info_de_contacto)"
   ]
  },
  {
   "cell_type": "code",
   "execution_count": 18,
   "id": "01dc86d9",
   "metadata": {},
   "outputs": [],
   "source": [
    "info_de_contacto['email'] = 'Maluma_hasta_abajo@regechafa.com'"
   ]
  },
  {
   "cell_type": "markdown",
   "id": "0c5e8a94",
   "metadata": {},
   "source": [
    "## Modificar pares llave-valor existentes\n",
    "\n",
    "Para modificar un par llave-valor ya existente, basta con reasignar a una llave de nuestro diccionario el nuevo valor que queremos agregar. Por ejemplo, imaginemos que esta persona cambio de direccion:"
   ]
  },
  {
   "cell_type": "code",
   "execution_count": 19,
   "id": "d673f5f4",
   "metadata": {},
   "outputs": [
    {
     "name": "stdout",
     "output_type": "stream",
     "text": [
      "{'Direccion': {'Codigo_Postal': 11800, 'Colonia': 'Escandalo', 'Numero': 189},\n",
      " 'Nombre': 'Maluma',\n",
      " 'Telefono': 123456789,\n",
      " 'email': 'Maluma_hasta_abajo@regechafa.com'}\n"
     ]
    }
   ],
   "source": [
    "info_de_contacto['Direccion'] = {\n",
    "    'Colonia':'Escandalo',\n",
    "    'Codigo_Postal':11800,\n",
    "    'Numero': 189\n",
    "}\n",
    "\n",
    "pprint(info_de_contacto)"
   ]
  },
  {
   "cell_type": "markdown",
   "id": "bbf05865",
   "metadata": {},
   "source": [
    "Podemos incluso modificar estructuras de datos dentro de nuestro diccionario. Por ejemplo, ¿Qué tal si hubo un error al agregar la nueva direccion y ahora tenemos que cambiar solamente el numero:"
   ]
  },
  {
   "cell_type": "code",
   "execution_count": null,
   "id": "df36507e",
   "metadata": {},
   "outputs": [],
   "source": []
  },
  {
   "cell_type": "markdown",
   "id": "5ed154e5",
   "metadata": {},
   "source": [
    "## Eliminando datos\n",
    "\n",
    "Para eliminar datos, se puede usar el metodo `pop`. Como se recordara, el nombre de este metodo es identico al metodo para eliminar elementos de una lista. La diferencia es que el metodo `pop`"
   ]
  },
  {
   "cell_type": "code",
   "execution_count": 23,
   "id": "8f6078b6",
   "metadata": {},
   "outputs": [
    {
     "name": "stdout",
     "output_type": "stream",
     "text": [
      "{'Direccion': {'Codigo_Postal': 11800, 'Colonia': 'Escandalo', 'Numero': 189},\n",
      " 'Nombre': 'Maluma',\n",
      " 'email': 'Maluma_hasta_abajo@regechafa.com'}\n"
     ]
    }
   ],
   "source": [
    "info_de_contacto.pop('Telefono')\n",
    "pprint(info_de_contacto)"
   ]
  }
 ],
 "metadata": {
  "kernelspec": {
   "display_name": "Python 3",
   "language": "python",
   "name": "python3"
  },
  "language_info": {
   "codemirror_mode": {
    "name": "ipython",
    "version": 3
   },
   "file_extension": ".py",
   "mimetype": "text/x-python",
   "name": "python",
   "nbconvert_exporter": "python",
   "pygments_lexer": "ipython3",
   "version": "3.13.3"
  }
 },
 "nbformat": 4,
 "nbformat_minor": 5
}
