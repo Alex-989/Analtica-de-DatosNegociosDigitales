{
 "cells": [
  {
   "cell_type": "markdown",
   "id": "6a7c3ab3",
   "metadata": {},
   "source": [
    "## Estructuras de Control\n",
    "\n",
    "### Objetivo:\n",
    "\n",
    "    - Conocer las estructuras de control, como funcionan y para que sirven\n",
    "\n",
    "---"
   ]
  },
  {
   "cell_type": "markdown",
   "id": "65a7c4ff",
   "metadata": {},
   "source": [
    "## Desarrollo"
   ]
  },
  {
   "cell_type": "markdown",
   "id": "17a63a25",
   "metadata": {},
   "source": [
    "Queremos darle a nuestro programa la capacidad de tomar decisiones. Esto puede hacerse utilizando una `sentencia if` utiliza una comparacion para obtener un boolean. Si el booleano es `True`, el bloque de la sentencia se ejecuta. Si el booleano es `False` nos saltamos a lo que sigue despues del bloque"
   ]
  },
  {
   "cell_type": "code",
   "execution_count": 1,
   "id": "15b2c02e",
   "metadata": {},
   "outputs": [],
   "source": [
    "var_1 = 4\n",
    "var_2 = 5"
   ]
  },
  {
   "cell_type": "code",
   "execution_count": 2,
   "id": "b34fa289",
   "metadata": {},
   "outputs": [
    {
     "name": "stdout",
     "output_type": "stream",
     "text": [
      "El bloque se ha ejecutado\n"
     ]
    }
   ],
   "source": [
    "if var_1 < var_2:\n",
    "    print(\"El bloque se ha ejecutado\")"
   ]
  },
  {
   "cell_type": "code",
   "execution_count": 5,
   "id": "c6515336",
   "metadata": {},
   "outputs": [
    {
     "name": "stdout",
     "output_type": "stream",
     "text": [
      "El numero 3 es menor que el numero 8\n"
     ]
    }
   ],
   "source": [
    "var_1 = int(input('Intriduce el Valor'))\n",
    "var_2 = int(input('Intriduce el Valor'))\n",
    "\n",
    "if var_1 < var_2:\n",
    "    print(f\"El numero {var_1} es menor que el numero {var_2}\")"
   ]
  },
  {
   "cell_type": "code",
   "execution_count": 6,
   "id": "5ace3775",
   "metadata": {},
   "outputs": [],
   "source": [
    "\n",
    "def solicitar ():\n",
    "    return int(input('Introduce el Valor'))"
   ]
  },
  {
   "cell_type": "code",
   "execution_count": 7,
   "id": "2c61e10b",
   "metadata": {},
   "outputs": [],
   "source": [
    "def comparar (valor_uno, valor_dos):\n",
    "    if valor_uno < valor_dos:\n",
    "        print(f\"El numero {var_1} es menor que el numero {var_2}\")"
   ]
  },
  {
   "cell_type": "code",
   "execution_count": 8,
   "id": "c08f0ed3",
   "metadata": {},
   "outputs": [
    {
     "name": "stdout",
     "output_type": "stream",
     "text": [
      "El numero 1 es menor que el numero 6\n"
     ]
    }
   ],
   "source": [
    "# Ejecucion de las funciones\n",
    "var_1 = solicitar()\n",
    "var_2 = solicitar()\n",
    "\n",
    "comparar(var_1, var_2)"
   ]
  },
  {
   "cell_type": "markdown",
   "id": "40ec309c",
   "metadata": {},
   "source": [
    "1. **Desarrollar un programa que determine si un numero es positivo**\n",
    "2. **Desarrollar un programa que determina si puedes votar, la edad minima es 18**\n",
    "3. **Verificar si un numero es par**\n",
    "4. **Realizar a simulacion de un login, en el cual se debe verificar se la contraseña es correcta**\n",
    "5. **Realizar un programa determine si un alumno esta aprobado, la calificacion minima es 7**\n",
    "\n",
    "Todos los datos deben ser solicitados"
   ]
  },
  {
   "cell_type": "code",
   "execution_count": 9,
   "id": "0336bd43",
   "metadata": {},
   "outputs": [
    {
     "name": "stdout",
     "output_type": "stream",
     "text": [
      "Tu numero 3 es positivo\n"
     ]
    }
   ],
   "source": [
    "# 1\n",
    "\n",
    "var_1 = solicitar()\n",
    "\n",
    "\n",
    "if var_1 > 0:\n",
    "    print (f'Tu numero {var_1} es positivo')"
   ]
  },
  {
   "cell_type": "code",
   "execution_count": 10,
   "id": "c0d60fd8",
   "metadata": {},
   "outputs": [
    {
     "name": "stdout",
     "output_type": "stream",
     "text": [
      "Si puedes votar\n"
     ]
    }
   ],
   "source": [
    "#2\n",
    "\n",
    "def solicitaredad():\n",
    "    return int(input('Introduce el Valor'))\n",
    "\n",
    "var_1 = solicitaredad()\n",
    "\n",
    "if var_1 >= 18:\n",
    "    print (f\"Si puedes votar\")"
   ]
  },
  {
   "cell_type": "code",
   "execution_count": 11,
   "id": "b03c836e",
   "metadata": {},
   "outputs": [
    {
     "name": "stdout",
     "output_type": "stream",
     "text": [
      "Tu numero es par 4\n"
     ]
    }
   ],
   "source": [
    "#3\n",
    "\n",
    "var_1 = solicitar()\n",
    "\n",
    "residuo = var_1 % 2\n",
    "\n",
    "if residuo == 0:\n",
    "    print(f\"Tu numero es par {var_1}\")"
   ]
  },
  {
   "cell_type": "code",
   "execution_count": 12,
   "id": "d8069f6f",
   "metadata": {},
   "outputs": [
    {
     "name": "stdout",
     "output_type": "stream",
     "text": [
      "Tu contraseña es correcta, puedes acceder\n"
     ]
    }
   ],
   "source": [
    "#4\n",
    "\n",
    "def solicitar ():\n",
    "    return str(input('Introduce la contraseña')) \n",
    "contra = solicitar()\n",
    "\n",
    "if contra == 'papahugo':\n",
    "    print(\"Tu contraseña es correcta, puedes acceder\")"
   ]
  },
  {
   "cell_type": "code",
   "execution_count": 13,
   "id": "ba859795",
   "metadata": {},
   "outputs": [
    {
     "name": "stdout",
     "output_type": "stream",
     "text": [
      "Contraseña incorrecta\n"
     ]
    }
   ],
   "source": [
    "def solicitar ():\n",
    "    return str(input('Introduce la contraseña')) \n",
    "contra = solicitar()\n",
    "\n",
    "if contra == 'papahugo':\n",
    "    print(\"Tu contraseña es correcta, puedes acceder\")\n",
    "else:\n",
    "    print('Contraseña incorrecta')"
   ]
  },
  {
   "cell_type": "code",
   "execution_count": 14,
   "id": "36420903",
   "metadata": {},
   "outputs": [
    {
     "name": "stdout",
     "output_type": "stream",
     "text": [
      "Aprobaste!!! Felicidades! Tu calificacion es aprobatoria 10\n"
     ]
    }
   ],
   "source": [
    "#5\n",
    "def solicitar ():\n",
    "    return int(input('Introduce el valor')) \n",
    "\n",
    "var_1 = solicitar()\n",
    "\n",
    "if var_1 >= 7:\n",
    "    print (f\"Aprobaste!!! Felicidades! Tu calificacion es aprobatoria {var_1}\")"
   ]
  }
 ],
 "metadata": {
  "kernelspec": {
   "display_name": "Python 3",
   "language": "python",
   "name": "python3"
  },
  "language_info": {
   "codemirror_mode": {
    "name": "ipython",
    "version": 3
   },
   "file_extension": ".py",
   "mimetype": "text/x-python",
   "name": "python",
   "nbconvert_exporter": "python",
   "pygments_lexer": "ipython3",
   "version": "3.13.3"
  }
 },
 "nbformat": 4,
 "nbformat_minor": 5
}
