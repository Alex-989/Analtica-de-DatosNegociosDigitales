{
 "cells": [
  {
   "cell_type": "markdown",
   "id": "d619fa6d",
   "metadata": {},
   "source": [
    "# Ejemplo 1: Esto es un Notebook de Practica\n",
    "\n",
    "---\n",
    "\n",
    "### 1. Objetivos\n",
    "    - Repasar rápidamente como funciona un Jupyter Notebook\n",
    "\n",
    "### 2. Requisitos: \n",
    "    - Jupyter Notebook instalado\n",
    "\n",
    "---\n"
   ]
  },
  {
   "cell_type": "markdown",
   "id": "61639657",
   "metadata": {},
   "source": [
    "En JN tenemos `modo comando` y `modo edición`\n",
    "\n",
    "- El `modo edición` sirve para editar celdas\n",
    "- El `modo comando` sirve para usar comandos en el JN"
   ]
  },
  {
   "cell_type": "markdown",
   "id": "b7bc22da",
   "metadata": {},
   "source": [
    "Esto es una celda `Markdown`"
   ]
  },
  {
   "cell_type": "code",
   "execution_count": null,
   "id": "d47a25aa",
   "metadata": {},
   "outputs": [],
   "source": [
    "# Esto es una celda de Código\n",
    "# y yo soy un comentario ..."
   ]
  },
  {
   "cell_type": "markdown",
   "id": "de8f2d8c",
   "metadata": {},
   "source": [
    "Escribamos algo de código para recordar: "
   ]
  },
  {
   "cell_type": "code",
   "execution_count": 1,
   "id": "4066a0df",
   "metadata": {},
   "outputs": [
    {
     "data": {
      "text/plain": [
       "9"
      ]
     },
     "execution_count": 1,
     "metadata": {},
     "output_type": "execute_result"
    }
   ],
   "source": [
    "var_1 = 4\n",
    "var_2 = 5\n",
    "\n",
    "var_1 + var_2"
   ]
  }
 ],
 "metadata": {
  "kernelspec": {
   "display_name": "Python 3",
   "language": "python",
   "name": "python3"
  },
  "language_info": {
   "codemirror_mode": {
    "name": "ipython",
    "version": 3
   },
   "file_extension": ".py",
   "mimetype": "text/x-python",
   "name": "python",
   "nbconvert_exporter": "python",
   "pygments_lexer": "ipython3",
   "version": "3.13.3"
  }
 },
 "nbformat": 4,
 "nbformat_minor": 5
}
