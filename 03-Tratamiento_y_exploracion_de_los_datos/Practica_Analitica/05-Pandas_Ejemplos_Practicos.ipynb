{
 "cells": [
  {
   "cell_type": "markdown",
   "id": "4130068e",
   "metadata": {},
   "source": [
    "# Ejemplo Practico para Pandas con DataFrames"
   ]
  },
  {
   "cell_type": "markdown",
   "id": "13b06477",
   "metadata": {},
   "source": [
    "## 1. Inpección Inicial del DataFrame"
   ]
  },
  {
   "cell_type": "code",
   "execution_count": 1,
   "id": "6f9f56ef",
   "metadata": {},
   "outputs": [],
   "source": [
    "# Importacion de Librerias\n",
    "import pandas as pd"
   ]
  },
  {
   "cell_type": "code",
   "execution_count": 2,
   "id": "e5129dd2",
   "metadata": {},
   "outputs": [],
   "source": [
    "# Crear un DataFrame apartir de un diccionario\n",
    "\n",
    "data = {\n",
    "    'Nombre' : ['Ana', 'Luis', 'Carlos', 'Lucia', 'Martha', 'Jorge', 'Sofia'],\n",
    "    'Edad' : [23, 35, 45, 25, 30, 28, 32],\n",
    "    'Ciudad' : ['CDMX', 'Guadalajara', 'Monterrey', 'CDMX', 'Puebla', 'CDMX', 'Guadalajara'],\n",
    "    'Salario' : [12000, 15000, 18000, 12500, 14000, 13000, 15500],\n",
    "    'Departamento' :  ['Ventas', 'Marketing', 'Ventas', 'TI', 'TI', 'Marketing', 'Ventas']\n",
    "} "
   ]
  },
  {
   "cell_type": "code",
   "execution_count": 3,
   "id": "ffc7144f",
   "metadata": {},
   "outputs": [
    {
     "data": {
      "text/html": [
       "<div>\n",
       "<style scoped>\n",
       "    .dataframe tbody tr th:only-of-type {\n",
       "        vertical-align: middle;\n",
       "    }\n",
       "\n",
       "    .dataframe tbody tr th {\n",
       "        vertical-align: top;\n",
       "    }\n",
       "\n",
       "    .dataframe thead th {\n",
       "        text-align: right;\n",
       "    }\n",
       "</style>\n",
       "<table border=\"1\" class=\"dataframe\">\n",
       "  <thead>\n",
       "    <tr style=\"text-align: right;\">\n",
       "      <th></th>\n",
       "      <th>Nombre</th>\n",
       "      <th>Edad</th>\n",
       "      <th>Ciudad</th>\n",
       "      <th>Salario</th>\n",
       "      <th>Departamento</th>\n",
       "    </tr>\n",
       "  </thead>\n",
       "  <tbody>\n",
       "    <tr>\n",
       "      <th>0</th>\n",
       "      <td>Ana</td>\n",
       "      <td>23</td>\n",
       "      <td>CDMX</td>\n",
       "      <td>12000</td>\n",
       "      <td>Ventas</td>\n",
       "    </tr>\n",
       "    <tr>\n",
       "      <th>1</th>\n",
       "      <td>Luis</td>\n",
       "      <td>35</td>\n",
       "      <td>Guadalajara</td>\n",
       "      <td>15000</td>\n",
       "      <td>Marketing</td>\n",
       "    </tr>\n",
       "    <tr>\n",
       "      <th>2</th>\n",
       "      <td>Carlos</td>\n",
       "      <td>45</td>\n",
       "      <td>Monterrey</td>\n",
       "      <td>18000</td>\n",
       "      <td>Ventas</td>\n",
       "    </tr>\n",
       "    <tr>\n",
       "      <th>3</th>\n",
       "      <td>Lucia</td>\n",
       "      <td>25</td>\n",
       "      <td>CDMX</td>\n",
       "      <td>12500</td>\n",
       "      <td>TI</td>\n",
       "    </tr>\n",
       "    <tr>\n",
       "      <th>4</th>\n",
       "      <td>Martha</td>\n",
       "      <td>30</td>\n",
       "      <td>Puebla</td>\n",
       "      <td>14000</td>\n",
       "      <td>TI</td>\n",
       "    </tr>\n",
       "    <tr>\n",
       "      <th>5</th>\n",
       "      <td>Jorge</td>\n",
       "      <td>28</td>\n",
       "      <td>CDMX</td>\n",
       "      <td>13000</td>\n",
       "      <td>Marketing</td>\n",
       "    </tr>\n",
       "    <tr>\n",
       "      <th>6</th>\n",
       "      <td>Sofia</td>\n",
       "      <td>32</td>\n",
       "      <td>Guadalajara</td>\n",
       "      <td>15500</td>\n",
       "      <td>Ventas</td>\n",
       "    </tr>\n",
       "  </tbody>\n",
       "</table>\n",
       "</div>"
      ],
      "text/plain": [
       "   Nombre  Edad       Ciudad  Salario Departamento\n",
       "0     Ana    23         CDMX    12000       Ventas\n",
       "1    Luis    35  Guadalajara    15000    Marketing\n",
       "2  Carlos    45    Monterrey    18000       Ventas\n",
       "3   Lucia    25         CDMX    12500           TI\n",
       "4  Martha    30       Puebla    14000           TI\n",
       "5   Jorge    28         CDMX    13000    Marketing\n",
       "6   Sofia    32  Guadalajara    15500       Ventas"
      ]
     },
     "execution_count": 3,
     "metadata": {},
     "output_type": "execute_result"
    }
   ],
   "source": [
    "df = pd.DataFrame(data)\n",
    "df"
   ]
  },
  {
   "cell_type": "markdown",
   "id": "ea9da2e1",
   "metadata": {},
   "source": [
    "## 2. Estructura y Resumen del DataFrame"
   ]
  },
  {
   "cell_type": "code",
   "execution_count": 4,
   "id": "cc12ef9d",
   "metadata": {},
   "outputs": [
    {
     "name": "stdout",
     "output_type": "stream",
     "text": [
      "<class 'pandas.core.frame.DataFrame'>\n",
      "RangeIndex: 7 entries, 0 to 6\n",
      "Data columns (total 5 columns):\n",
      " #   Column        Non-Null Count  Dtype \n",
      "---  ------        --------------  ----- \n",
      " 0   Nombre        7 non-null      object\n",
      " 1   Edad          7 non-null      int64 \n",
      " 2   Ciudad        7 non-null      object\n",
      " 3   Salario       7 non-null      int64 \n",
      " 4   Departamento  7 non-null      object\n",
      "dtypes: int64(2), object(3)\n",
      "memory usage: 412.0+ bytes\n"
     ]
    }
   ],
   "source": [
    "df.info()"
   ]
  },
  {
   "cell_type": "code",
   "execution_count": 5,
   "id": "2cc25ce0",
   "metadata": {},
   "outputs": [
    {
     "data": {
      "text/html": [
       "<div>\n",
       "<style scoped>\n",
       "    .dataframe tbody tr th:only-of-type {\n",
       "        vertical-align: middle;\n",
       "    }\n",
       "\n",
       "    .dataframe tbody tr th {\n",
       "        vertical-align: top;\n",
       "    }\n",
       "\n",
       "    .dataframe thead th {\n",
       "        text-align: right;\n",
       "    }\n",
       "</style>\n",
       "<table border=\"1\" class=\"dataframe\">\n",
       "  <thead>\n",
       "    <tr style=\"text-align: right;\">\n",
       "      <th></th>\n",
       "      <th>Edad</th>\n",
       "      <th>Salario</th>\n",
       "    </tr>\n",
       "  </thead>\n",
       "  <tbody>\n",
       "    <tr>\n",
       "      <th>count</th>\n",
       "      <td>7.000000</td>\n",
       "      <td>7.000000</td>\n",
       "    </tr>\n",
       "    <tr>\n",
       "      <th>mean</th>\n",
       "      <td>31.142857</td>\n",
       "      <td>14285.714286</td>\n",
       "    </tr>\n",
       "    <tr>\n",
       "      <th>std</th>\n",
       "      <td>7.335498</td>\n",
       "      <td>2078.804602</td>\n",
       "    </tr>\n",
       "    <tr>\n",
       "      <th>min</th>\n",
       "      <td>23.000000</td>\n",
       "      <td>12000.000000</td>\n",
       "    </tr>\n",
       "    <tr>\n",
       "      <th>25%</th>\n",
       "      <td>26.500000</td>\n",
       "      <td>12750.000000</td>\n",
       "    </tr>\n",
       "    <tr>\n",
       "      <th>50%</th>\n",
       "      <td>30.000000</td>\n",
       "      <td>14000.000000</td>\n",
       "    </tr>\n",
       "    <tr>\n",
       "      <th>75%</th>\n",
       "      <td>33.500000</td>\n",
       "      <td>15250.000000</td>\n",
       "    </tr>\n",
       "    <tr>\n",
       "      <th>max</th>\n",
       "      <td>45.000000</td>\n",
       "      <td>18000.000000</td>\n",
       "    </tr>\n",
       "  </tbody>\n",
       "</table>\n",
       "</div>"
      ],
      "text/plain": [
       "            Edad       Salario\n",
       "count   7.000000      7.000000\n",
       "mean   31.142857  14285.714286\n",
       "std     7.335498   2078.804602\n",
       "min    23.000000  12000.000000\n",
       "25%    26.500000  12750.000000\n",
       "50%    30.000000  14000.000000\n",
       "75%    33.500000  15250.000000\n",
       "max    45.000000  18000.000000"
      ]
     },
     "execution_count": 5,
     "metadata": {},
     "output_type": "execute_result"
    }
   ],
   "source": [
    "df.describe()"
   ]
  },
  {
   "cell_type": "code",
   "execution_count": 6,
   "id": "0dcb2deb",
   "metadata": {},
   "outputs": [
    {
     "data": {
      "text/plain": [
       "(7, 5)"
      ]
     },
     "execution_count": 6,
     "metadata": {},
     "output_type": "execute_result"
    }
   ],
   "source": [
    "# Muestra el Tamaño del Data Frame\n",
    "df.shape"
   ]
  },
  {
   "cell_type": "code",
   "execution_count": 7,
   "id": "b0e487e0",
   "metadata": {},
   "outputs": [
    {
     "data": {
      "text/plain": [
       "7"
      ]
     },
     "execution_count": 7,
     "metadata": {},
     "output_type": "execute_result"
    }
   ],
   "source": [
    "# Muestra el numero de filas\n",
    "df.shape[0]"
   ]
  },
  {
   "cell_type": "code",
   "execution_count": 8,
   "id": "24798433",
   "metadata": {},
   "outputs": [
    {
     "data": {
      "text/plain": [
       "5"
      ]
     },
     "execution_count": 8,
     "metadata": {},
     "output_type": "execute_result"
    }
   ],
   "source": [
    "# Muestra el numero de columnas\n",
    "df.shape[1]"
   ]
  },
  {
   "cell_type": "code",
   "execution_count": 9,
   "id": "fb605661",
   "metadata": {},
   "outputs": [
    {
     "data": {
      "text/plain": [
       "Nombre          object\n",
       "Edad             int64\n",
       "Ciudad          object\n",
       "Salario          int64\n",
       "Departamento    object\n",
       "dtype: object"
      ]
     },
     "execution_count": 9,
     "metadata": {},
     "output_type": "execute_result"
    }
   ],
   "source": [
    "# Muestra los tipos de las columnas\n",
    "df.dtypes"
   ]
  },
  {
   "cell_type": "code",
   "execution_count": 10,
   "id": "28a37d9a",
   "metadata": {},
   "outputs": [
    {
     "data": {
      "text/plain": [
       "Index(['Nombre', 'Edad', 'Ciudad', 'Salario', 'Departamento'], dtype='object')"
      ]
     },
     "execution_count": 10,
     "metadata": {},
     "output_type": "execute_result"
    }
   ],
   "source": [
    "# Columnas\n",
    "df.columns"
   ]
  },
  {
   "cell_type": "code",
   "execution_count": 11,
   "id": "1f86db77",
   "metadata": {},
   "outputs": [
    {
     "data": {
      "text/plain": [
       "RangeIndex(start=0, stop=7, step=1)"
      ]
     },
     "execution_count": 11,
     "metadata": {},
     "output_type": "execute_result"
    }
   ],
   "source": [
    "# Los Indices\n",
    "df.index"
   ]
  },
  {
   "cell_type": "markdown",
   "id": "a9bfb252",
   "metadata": {},
   "source": [
    "## 3. Seleccion de Columnas y Filas"
   ]
  },
  {
   "cell_type": "code",
   "execution_count": 12,
   "id": "eccd2ce7",
   "metadata": {},
   "outputs": [
    {
     "data": {
      "text/plain": [
       "0    23\n",
       "1    35\n",
       "2    45\n",
       "3    25\n",
       "4    30\n",
       "5    28\n",
       "6    32\n",
       "Name: Edad, dtype: int64"
      ]
     },
     "execution_count": 12,
     "metadata": {},
     "output_type": "execute_result"
    }
   ],
   "source": [
    "# Selecciona solo la columna de Edad y muestra los datos dentro de ella \n",
    "df['Edad']"
   ]
  },
  {
   "cell_type": "code",
   "execution_count": 13,
   "id": "59fc2475",
   "metadata": {},
   "outputs": [
    {
     "data": {
      "text/plain": [
       "pandas.core.series.Series"
      ]
     },
     "execution_count": 13,
     "metadata": {},
     "output_type": "execute_result"
    }
   ],
   "source": [
    "type(df['Edad'])"
   ]
  },
  {
   "cell_type": "code",
   "execution_count": 14,
   "id": "9bbcbf61",
   "metadata": {},
   "outputs": [
    {
     "data": {
      "text/html": [
       "<div>\n",
       "<style scoped>\n",
       "    .dataframe tbody tr th:only-of-type {\n",
       "        vertical-align: middle;\n",
       "    }\n",
       "\n",
       "    .dataframe tbody tr th {\n",
       "        vertical-align: top;\n",
       "    }\n",
       "\n",
       "    .dataframe thead th {\n",
       "        text-align: right;\n",
       "    }\n",
       "</style>\n",
       "<table border=\"1\" class=\"dataframe\">\n",
       "  <thead>\n",
       "    <tr style=\"text-align: right;\">\n",
       "      <th></th>\n",
       "      <th>Edad</th>\n",
       "    </tr>\n",
       "  </thead>\n",
       "  <tbody>\n",
       "    <tr>\n",
       "      <th>0</th>\n",
       "      <td>23</td>\n",
       "    </tr>\n",
       "    <tr>\n",
       "      <th>1</th>\n",
       "      <td>35</td>\n",
       "    </tr>\n",
       "    <tr>\n",
       "      <th>2</th>\n",
       "      <td>45</td>\n",
       "    </tr>\n",
       "    <tr>\n",
       "      <th>3</th>\n",
       "      <td>25</td>\n",
       "    </tr>\n",
       "    <tr>\n",
       "      <th>4</th>\n",
       "      <td>30</td>\n",
       "    </tr>\n",
       "    <tr>\n",
       "      <th>5</th>\n",
       "      <td>28</td>\n",
       "    </tr>\n",
       "    <tr>\n",
       "      <th>6</th>\n",
       "      <td>32</td>\n",
       "    </tr>\n",
       "  </tbody>\n",
       "</table>\n",
       "</div>"
      ],
      "text/plain": [
       "   Edad\n",
       "0    23\n",
       "1    35\n",
       "2    45\n",
       "3    25\n",
       "4    30\n",
       "5    28\n",
       "6    32"
      ]
     },
     "execution_count": 14,
     "metadata": {},
     "output_type": "execute_result"
    }
   ],
   "source": [
    "df[['Edad']]"
   ]
  },
  {
   "cell_type": "code",
   "execution_count": 15,
   "id": "6cb5890a",
   "metadata": {},
   "outputs": [
    {
     "data": {
      "text/plain": [
       "pandas.core.frame.DataFrame"
      ]
     },
     "execution_count": 15,
     "metadata": {},
     "output_type": "execute_result"
    }
   ],
   "source": [
    "type(df[['Edad']])"
   ]
  },
  {
   "cell_type": "code",
   "execution_count": 16,
   "id": "d887e1d7",
   "metadata": {},
   "outputs": [
    {
     "data": {
      "text/plain": [
       "0    12000\n",
       "1    15000\n",
       "2    18000\n",
       "3    12500\n",
       "4    14000\n",
       "5    13000\n",
       "6    15500\n",
       "Name: Salario, dtype: int64"
      ]
     },
     "execution_count": 16,
     "metadata": {},
     "output_type": "execute_result"
    }
   ],
   "source": [
    "df['Salario']"
   ]
  },
  {
   "cell_type": "code",
   "execution_count": 17,
   "id": "ad7d1cdb",
   "metadata": {},
   "outputs": [
    {
     "data": {
      "text/html": [
       "<div>\n",
       "<style scoped>\n",
       "    .dataframe tbody tr th:only-of-type {\n",
       "        vertical-align: middle;\n",
       "    }\n",
       "\n",
       "    .dataframe tbody tr th {\n",
       "        vertical-align: top;\n",
       "    }\n",
       "\n",
       "    .dataframe thead th {\n",
       "        text-align: right;\n",
       "    }\n",
       "</style>\n",
       "<table border=\"1\" class=\"dataframe\">\n",
       "  <thead>\n",
       "    <tr style=\"text-align: right;\">\n",
       "      <th></th>\n",
       "      <th>Nombre</th>\n",
       "      <th>Salario</th>\n",
       "      <th>Departamento</th>\n",
       "    </tr>\n",
       "  </thead>\n",
       "  <tbody>\n",
       "    <tr>\n",
       "      <th>0</th>\n",
       "      <td>Ana</td>\n",
       "      <td>12000</td>\n",
       "      <td>Ventas</td>\n",
       "    </tr>\n",
       "    <tr>\n",
       "      <th>1</th>\n",
       "      <td>Luis</td>\n",
       "      <td>15000</td>\n",
       "      <td>Marketing</td>\n",
       "    </tr>\n",
       "    <tr>\n",
       "      <th>2</th>\n",
       "      <td>Carlos</td>\n",
       "      <td>18000</td>\n",
       "      <td>Ventas</td>\n",
       "    </tr>\n",
       "    <tr>\n",
       "      <th>3</th>\n",
       "      <td>Lucia</td>\n",
       "      <td>12500</td>\n",
       "      <td>TI</td>\n",
       "    </tr>\n",
       "    <tr>\n",
       "      <th>4</th>\n",
       "      <td>Martha</td>\n",
       "      <td>14000</td>\n",
       "      <td>TI</td>\n",
       "    </tr>\n",
       "    <tr>\n",
       "      <th>5</th>\n",
       "      <td>Jorge</td>\n",
       "      <td>13000</td>\n",
       "      <td>Marketing</td>\n",
       "    </tr>\n",
       "    <tr>\n",
       "      <th>6</th>\n",
       "      <td>Sofia</td>\n",
       "      <td>15500</td>\n",
       "      <td>Ventas</td>\n",
       "    </tr>\n",
       "  </tbody>\n",
       "</table>\n",
       "</div>"
      ],
      "text/plain": [
       "   Nombre  Salario Departamento\n",
       "0     Ana    12000       Ventas\n",
       "1    Luis    15000    Marketing\n",
       "2  Carlos    18000       Ventas\n",
       "3   Lucia    12500           TI\n",
       "4  Martha    14000           TI\n",
       "5   Jorge    13000    Marketing\n",
       "6   Sofia    15500       Ventas"
      ]
     },
     "execution_count": 17,
     "metadata": {},
     "output_type": "execute_result"
    }
   ],
   "source": [
    "df[['Nombre', 'Salario', 'Departamento']]"
   ]
  },
  {
   "cell_type": "markdown",
   "id": "e37595cf",
   "metadata": {},
   "source": [
    "## 4. Filtrado de Filas"
   ]
  },
  {
   "cell_type": "code",
   "execution_count": 18,
   "id": "1a646f40",
   "metadata": {},
   "outputs": [
    {
     "data": {
      "text/plain": [
       "0     True\n",
       "1    False\n",
       "2    False\n",
       "3     True\n",
       "4    False\n",
       "5     True\n",
       "6    False\n",
       "Name: Ciudad, dtype: bool"
      ]
     },
     "execution_count": 18,
     "metadata": {},
     "output_type": "execute_result"
    }
   ],
   "source": [
    "# Filtrar todas las filas que la ciudad sea CDMX\n",
    "df['Ciudad'] == 'CDMX'"
   ]
  },
  {
   "cell_type": "code",
   "execution_count": 19,
   "id": "299a10ae",
   "metadata": {},
   "outputs": [
    {
     "data": {
      "text/html": [
       "<div>\n",
       "<style scoped>\n",
       "    .dataframe tbody tr th:only-of-type {\n",
       "        vertical-align: middle;\n",
       "    }\n",
       "\n",
       "    .dataframe tbody tr th {\n",
       "        vertical-align: top;\n",
       "    }\n",
       "\n",
       "    .dataframe thead th {\n",
       "        text-align: right;\n",
       "    }\n",
       "</style>\n",
       "<table border=\"1\" class=\"dataframe\">\n",
       "  <thead>\n",
       "    <tr style=\"text-align: right;\">\n",
       "      <th></th>\n",
       "      <th>Nombre</th>\n",
       "      <th>Edad</th>\n",
       "      <th>Ciudad</th>\n",
       "      <th>Salario</th>\n",
       "      <th>Departamento</th>\n",
       "    </tr>\n",
       "  </thead>\n",
       "  <tbody>\n",
       "    <tr>\n",
       "      <th>0</th>\n",
       "      <td>Ana</td>\n",
       "      <td>23</td>\n",
       "      <td>CDMX</td>\n",
       "      <td>12000</td>\n",
       "      <td>Ventas</td>\n",
       "    </tr>\n",
       "    <tr>\n",
       "      <th>3</th>\n",
       "      <td>Lucia</td>\n",
       "      <td>25</td>\n",
       "      <td>CDMX</td>\n",
       "      <td>12500</td>\n",
       "      <td>TI</td>\n",
       "    </tr>\n",
       "    <tr>\n",
       "      <th>5</th>\n",
       "      <td>Jorge</td>\n",
       "      <td>28</td>\n",
       "      <td>CDMX</td>\n",
       "      <td>13000</td>\n",
       "      <td>Marketing</td>\n",
       "    </tr>\n",
       "  </tbody>\n",
       "</table>\n",
       "</div>"
      ],
      "text/plain": [
       "  Nombre  Edad Ciudad  Salario Departamento\n",
       "0    Ana    23   CDMX    12000       Ventas\n",
       "3  Lucia    25   CDMX    12500           TI\n",
       "5  Jorge    28   CDMX    13000    Marketing"
      ]
     },
     "execution_count": 19,
     "metadata": {},
     "output_type": "execute_result"
    }
   ],
   "source": [
    "# Filtrar todas las filas que la ciudad sea CDMX\n",
    "df[df['Ciudad'] == 'CDMX']"
   ]
  },
  {
   "cell_type": "code",
   "execution_count": 20,
   "id": "2adb17e7",
   "metadata": {},
   "outputs": [
    {
     "data": {
      "text/html": [
       "<div>\n",
       "<style scoped>\n",
       "    .dataframe tbody tr th:only-of-type {\n",
       "        vertical-align: middle;\n",
       "    }\n",
       "\n",
       "    .dataframe tbody tr th {\n",
       "        vertical-align: top;\n",
       "    }\n",
       "\n",
       "    .dataframe thead th {\n",
       "        text-align: right;\n",
       "    }\n",
       "</style>\n",
       "<table border=\"1\" class=\"dataframe\">\n",
       "  <thead>\n",
       "    <tr style=\"text-align: right;\">\n",
       "      <th></th>\n",
       "      <th>Nombre</th>\n",
       "      <th>Ciudad</th>\n",
       "      <th>Salario</th>\n",
       "    </tr>\n",
       "  </thead>\n",
       "  <tbody>\n",
       "    <tr>\n",
       "      <th>0</th>\n",
       "      <td>Ana</td>\n",
       "      <td>CDMX</td>\n",
       "      <td>12000</td>\n",
       "    </tr>\n",
       "    <tr>\n",
       "      <th>3</th>\n",
       "      <td>Lucia</td>\n",
       "      <td>CDMX</td>\n",
       "      <td>12500</td>\n",
       "    </tr>\n",
       "    <tr>\n",
       "      <th>5</th>\n",
       "      <td>Jorge</td>\n",
       "      <td>CDMX</td>\n",
       "      <td>13000</td>\n",
       "    </tr>\n",
       "  </tbody>\n",
       "</table>\n",
       "</div>"
      ],
      "text/plain": [
       "  Nombre Ciudad  Salario\n",
       "0    Ana   CDMX    12000\n",
       "3  Lucia   CDMX    12500\n",
       "5  Jorge   CDMX    13000"
      ]
     },
     "execution_count": 20,
     "metadata": {},
     "output_type": "execute_result"
    }
   ],
   "source": [
    "df[df['Ciudad'] == 'CDMX'][['Nombre', 'Ciudad', 'Salario']]"
   ]
  },
  {
   "cell_type": "code",
   "execution_count": 21,
   "id": "9b4837be",
   "metadata": {},
   "outputs": [],
   "source": [
    "df_CDMX = df[df['Ciudad'] == 'CDMX']"
   ]
  },
  {
   "cell_type": "code",
   "execution_count": 22,
   "id": "a9c5470e",
   "metadata": {},
   "outputs": [
    {
     "data": {
      "text/html": [
       "<div>\n",
       "<style scoped>\n",
       "    .dataframe tbody tr th:only-of-type {\n",
       "        vertical-align: middle;\n",
       "    }\n",
       "\n",
       "    .dataframe tbody tr th {\n",
       "        vertical-align: top;\n",
       "    }\n",
       "\n",
       "    .dataframe thead th {\n",
       "        text-align: right;\n",
       "    }\n",
       "</style>\n",
       "<table border=\"1\" class=\"dataframe\">\n",
       "  <thead>\n",
       "    <tr style=\"text-align: right;\">\n",
       "      <th></th>\n",
       "      <th>Nombre</th>\n",
       "      <th>Ciudad</th>\n",
       "      <th>Salario</th>\n",
       "    </tr>\n",
       "  </thead>\n",
       "  <tbody>\n",
       "    <tr>\n",
       "      <th>0</th>\n",
       "      <td>Ana</td>\n",
       "      <td>CDMX</td>\n",
       "      <td>12000</td>\n",
       "    </tr>\n",
       "    <tr>\n",
       "      <th>3</th>\n",
       "      <td>Lucia</td>\n",
       "      <td>CDMX</td>\n",
       "      <td>12500</td>\n",
       "    </tr>\n",
       "    <tr>\n",
       "      <th>5</th>\n",
       "      <td>Jorge</td>\n",
       "      <td>CDMX</td>\n",
       "      <td>13000</td>\n",
       "    </tr>\n",
       "  </tbody>\n",
       "</table>\n",
       "</div>"
      ],
      "text/plain": [
       "  Nombre Ciudad  Salario\n",
       "0    Ana   CDMX    12000\n",
       "3  Lucia   CDMX    12500\n",
       "5  Jorge   CDMX    13000"
      ]
     },
     "execution_count": 22,
     "metadata": {},
     "output_type": "execute_result"
    }
   ],
   "source": [
    "df_CDMX[['Nombre', 'Ciudad', 'Salario']]"
   ]
  },
  {
   "cell_type": "code",
   "execution_count": 23,
   "id": "745867c3",
   "metadata": {},
   "outputs": [
    {
     "data": {
      "text/html": [
       "<div>\n",
       "<style scoped>\n",
       "    .dataframe tbody tr th:only-of-type {\n",
       "        vertical-align: middle;\n",
       "    }\n",
       "\n",
       "    .dataframe tbody tr th {\n",
       "        vertical-align: top;\n",
       "    }\n",
       "\n",
       "    .dataframe thead th {\n",
       "        text-align: right;\n",
       "    }\n",
       "</style>\n",
       "<table border=\"1\" class=\"dataframe\">\n",
       "  <thead>\n",
       "    <tr style=\"text-align: right;\">\n",
       "      <th></th>\n",
       "      <th>Nombre</th>\n",
       "      <th>Edad</th>\n",
       "      <th>Ciudad</th>\n",
       "      <th>Salario</th>\n",
       "      <th>Departamento</th>\n",
       "    </tr>\n",
       "  </thead>\n",
       "  <tbody>\n",
       "    <tr>\n",
       "      <th>3</th>\n",
       "      <td>Lucia</td>\n",
       "      <td>25</td>\n",
       "      <td>CDMX</td>\n",
       "      <td>12500</td>\n",
       "      <td>TI</td>\n",
       "    </tr>\n",
       "  </tbody>\n",
       "</table>\n",
       "</div>"
      ],
      "text/plain": [
       "  Nombre  Edad Ciudad  Salario Departamento\n",
       "3  Lucia    25   CDMX    12500           TI"
      ]
     },
     "execution_count": 23,
     "metadata": {},
     "output_type": "execute_result"
    }
   ],
   "source": [
    "# Mostrar todos las filas de la ciudad de mexico y del departamento de TI\n",
    "df[(df['Ciudad'] == 'CDMX') & (df['Departamento'] == 'TI')]"
   ]
  },
  {
   "cell_type": "markdown",
   "id": "c5607614",
   "metadata": {},
   "source": [
    "# Mostrar todos las filas de la ciudad de mexico o del departamento de TI"
   ]
  },
  {
   "cell_type": "code",
   "execution_count": 24,
   "id": "3335feb2",
   "metadata": {},
   "outputs": [
    {
     "data": {
      "text/html": [
       "<div>\n",
       "<style scoped>\n",
       "    .dataframe tbody tr th:only-of-type {\n",
       "        vertical-align: middle;\n",
       "    }\n",
       "\n",
       "    .dataframe tbody tr th {\n",
       "        vertical-align: top;\n",
       "    }\n",
       "\n",
       "    .dataframe thead th {\n",
       "        text-align: right;\n",
       "    }\n",
       "</style>\n",
       "<table border=\"1\" class=\"dataframe\">\n",
       "  <thead>\n",
       "    <tr style=\"text-align: right;\">\n",
       "      <th></th>\n",
       "      <th>Nombre</th>\n",
       "      <th>Edad</th>\n",
       "      <th>Ciudad</th>\n",
       "      <th>Salario</th>\n",
       "      <th>Departamento</th>\n",
       "    </tr>\n",
       "  </thead>\n",
       "  <tbody>\n",
       "    <tr>\n",
       "      <th>0</th>\n",
       "      <td>Ana</td>\n",
       "      <td>23</td>\n",
       "      <td>CDMX</td>\n",
       "      <td>12000</td>\n",
       "      <td>Ventas</td>\n",
       "    </tr>\n",
       "    <tr>\n",
       "      <th>3</th>\n",
       "      <td>Lucia</td>\n",
       "      <td>25</td>\n",
       "      <td>CDMX</td>\n",
       "      <td>12500</td>\n",
       "      <td>TI</td>\n",
       "    </tr>\n",
       "    <tr>\n",
       "      <th>4</th>\n",
       "      <td>Martha</td>\n",
       "      <td>30</td>\n",
       "      <td>Puebla</td>\n",
       "      <td>14000</td>\n",
       "      <td>TI</td>\n",
       "    </tr>\n",
       "    <tr>\n",
       "      <th>5</th>\n",
       "      <td>Jorge</td>\n",
       "      <td>28</td>\n",
       "      <td>CDMX</td>\n",
       "      <td>13000</td>\n",
       "      <td>Marketing</td>\n",
       "    </tr>\n",
       "  </tbody>\n",
       "</table>\n",
       "</div>"
      ],
      "text/plain": [
       "   Nombre  Edad  Ciudad  Salario Departamento\n",
       "0     Ana    23    CDMX    12000       Ventas\n",
       "3   Lucia    25    CDMX    12500           TI\n",
       "4  Martha    30  Puebla    14000           TI\n",
       "5   Jorge    28    CDMX    13000    Marketing"
      ]
     },
     "execution_count": 24,
     "metadata": {},
     "output_type": "execute_result"
    }
   ],
   "source": [
    "df[(df['Ciudad'] == 'CDMX') | (df['Departamento'] == 'TI')]"
   ]
  },
  {
   "cell_type": "markdown",
   "id": "2c81602d",
   "metadata": {},
   "source": [
    "## 5. Ordenar Filas"
   ]
  },
  {
   "cell_type": "code",
   "execution_count": 25,
   "id": "34c3e49c",
   "metadata": {},
   "outputs": [
    {
     "data": {
      "text/html": [
       "<div>\n",
       "<style scoped>\n",
       "    .dataframe tbody tr th:only-of-type {\n",
       "        vertical-align: middle;\n",
       "    }\n",
       "\n",
       "    .dataframe tbody tr th {\n",
       "        vertical-align: top;\n",
       "    }\n",
       "\n",
       "    .dataframe thead th {\n",
       "        text-align: right;\n",
       "    }\n",
       "</style>\n",
       "<table border=\"1\" class=\"dataframe\">\n",
       "  <thead>\n",
       "    <tr style=\"text-align: right;\">\n",
       "      <th></th>\n",
       "      <th>Nombre</th>\n",
       "      <th>Edad</th>\n",
       "      <th>Ciudad</th>\n",
       "      <th>Salario</th>\n",
       "      <th>Departamento</th>\n",
       "    </tr>\n",
       "  </thead>\n",
       "  <tbody>\n",
       "    <tr>\n",
       "      <th>0</th>\n",
       "      <td>Ana</td>\n",
       "      <td>23</td>\n",
       "      <td>CDMX</td>\n",
       "      <td>12000</td>\n",
       "      <td>Ventas</td>\n",
       "    </tr>\n",
       "    <tr>\n",
       "      <th>3</th>\n",
       "      <td>Lucia</td>\n",
       "      <td>25</td>\n",
       "      <td>CDMX</td>\n",
       "      <td>12500</td>\n",
       "      <td>TI</td>\n",
       "    </tr>\n",
       "    <tr>\n",
       "      <th>5</th>\n",
       "      <td>Jorge</td>\n",
       "      <td>28</td>\n",
       "      <td>CDMX</td>\n",
       "      <td>13000</td>\n",
       "      <td>Marketing</td>\n",
       "    </tr>\n",
       "    <tr>\n",
       "      <th>4</th>\n",
       "      <td>Martha</td>\n",
       "      <td>30</td>\n",
       "      <td>Puebla</td>\n",
       "      <td>14000</td>\n",
       "      <td>TI</td>\n",
       "    </tr>\n",
       "    <tr>\n",
       "      <th>1</th>\n",
       "      <td>Luis</td>\n",
       "      <td>35</td>\n",
       "      <td>Guadalajara</td>\n",
       "      <td>15000</td>\n",
       "      <td>Marketing</td>\n",
       "    </tr>\n",
       "    <tr>\n",
       "      <th>6</th>\n",
       "      <td>Sofia</td>\n",
       "      <td>32</td>\n",
       "      <td>Guadalajara</td>\n",
       "      <td>15500</td>\n",
       "      <td>Ventas</td>\n",
       "    </tr>\n",
       "    <tr>\n",
       "      <th>2</th>\n",
       "      <td>Carlos</td>\n",
       "      <td>45</td>\n",
       "      <td>Monterrey</td>\n",
       "      <td>18000</td>\n",
       "      <td>Ventas</td>\n",
       "    </tr>\n",
       "  </tbody>\n",
       "</table>\n",
       "</div>"
      ],
      "text/plain": [
       "   Nombre  Edad       Ciudad  Salario Departamento\n",
       "0     Ana    23         CDMX    12000       Ventas\n",
       "3   Lucia    25         CDMX    12500           TI\n",
       "5   Jorge    28         CDMX    13000    Marketing\n",
       "4  Martha    30       Puebla    14000           TI\n",
       "1    Luis    35  Guadalajara    15000    Marketing\n",
       "6   Sofia    32  Guadalajara    15500       Ventas\n",
       "2  Carlos    45    Monterrey    18000       Ventas"
      ]
     },
     "execution_count": 25,
     "metadata": {},
     "output_type": "execute_result"
    }
   ],
   "source": [
    "# Ordena por salario de Forma Ascendente (A-Z, 0-9)\n",
    "df.sort_values(by='Salario', ascending= True)"
   ]
  },
  {
   "cell_type": "code",
   "execution_count": 26,
   "id": "33c00a11",
   "metadata": {},
   "outputs": [
    {
     "data": {
      "text/html": [
       "<div>\n",
       "<style scoped>\n",
       "    .dataframe tbody tr th:only-of-type {\n",
       "        vertical-align: middle;\n",
       "    }\n",
       "\n",
       "    .dataframe tbody tr th {\n",
       "        vertical-align: top;\n",
       "    }\n",
       "\n",
       "    .dataframe thead th {\n",
       "        text-align: right;\n",
       "    }\n",
       "</style>\n",
       "<table border=\"1\" class=\"dataframe\">\n",
       "  <thead>\n",
       "    <tr style=\"text-align: right;\">\n",
       "      <th></th>\n",
       "      <th>Nombre</th>\n",
       "      <th>Edad</th>\n",
       "      <th>Ciudad</th>\n",
       "      <th>Salario</th>\n",
       "      <th>Departamento</th>\n",
       "    </tr>\n",
       "  </thead>\n",
       "  <tbody>\n",
       "    <tr>\n",
       "      <th>2</th>\n",
       "      <td>Carlos</td>\n",
       "      <td>45</td>\n",
       "      <td>Monterrey</td>\n",
       "      <td>18000</td>\n",
       "      <td>Ventas</td>\n",
       "    </tr>\n",
       "    <tr>\n",
       "      <th>6</th>\n",
       "      <td>Sofia</td>\n",
       "      <td>32</td>\n",
       "      <td>Guadalajara</td>\n",
       "      <td>15500</td>\n",
       "      <td>Ventas</td>\n",
       "    </tr>\n",
       "    <tr>\n",
       "      <th>1</th>\n",
       "      <td>Luis</td>\n",
       "      <td>35</td>\n",
       "      <td>Guadalajara</td>\n",
       "      <td>15000</td>\n",
       "      <td>Marketing</td>\n",
       "    </tr>\n",
       "    <tr>\n",
       "      <th>4</th>\n",
       "      <td>Martha</td>\n",
       "      <td>30</td>\n",
       "      <td>Puebla</td>\n",
       "      <td>14000</td>\n",
       "      <td>TI</td>\n",
       "    </tr>\n",
       "    <tr>\n",
       "      <th>5</th>\n",
       "      <td>Jorge</td>\n",
       "      <td>28</td>\n",
       "      <td>CDMX</td>\n",
       "      <td>13000</td>\n",
       "      <td>Marketing</td>\n",
       "    </tr>\n",
       "    <tr>\n",
       "      <th>3</th>\n",
       "      <td>Lucia</td>\n",
       "      <td>25</td>\n",
       "      <td>CDMX</td>\n",
       "      <td>12500</td>\n",
       "      <td>TI</td>\n",
       "    </tr>\n",
       "    <tr>\n",
       "      <th>0</th>\n",
       "      <td>Ana</td>\n",
       "      <td>23</td>\n",
       "      <td>CDMX</td>\n",
       "      <td>12000</td>\n",
       "      <td>Ventas</td>\n",
       "    </tr>\n",
       "  </tbody>\n",
       "</table>\n",
       "</div>"
      ],
      "text/plain": [
       "   Nombre  Edad       Ciudad  Salario Departamento\n",
       "2  Carlos    45    Monterrey    18000       Ventas\n",
       "6   Sofia    32  Guadalajara    15500       Ventas\n",
       "1    Luis    35  Guadalajara    15000    Marketing\n",
       "4  Martha    30       Puebla    14000           TI\n",
       "5   Jorge    28         CDMX    13000    Marketing\n",
       "3   Lucia    25         CDMX    12500           TI\n",
       "0     Ana    23         CDMX    12000       Ventas"
      ]
     },
     "execution_count": 26,
     "metadata": {},
     "output_type": "execute_result"
    }
   ],
   "source": [
    "# Ordena por salario de Forma Descendente (A-Z, 0-9)\n",
    "df.sort_values(by='Salario', ascending= False)"
   ]
  },
  {
   "cell_type": "code",
   "execution_count": 27,
   "id": "8d16898b",
   "metadata": {},
   "outputs": [
    {
     "data": {
      "text/html": [
       "<div>\n",
       "<style scoped>\n",
       "    .dataframe tbody tr th:only-of-type {\n",
       "        vertical-align: middle;\n",
       "    }\n",
       "\n",
       "    .dataframe tbody tr th {\n",
       "        vertical-align: top;\n",
       "    }\n",
       "\n",
       "    .dataframe thead th {\n",
       "        text-align: right;\n",
       "    }\n",
       "</style>\n",
       "<table border=\"1\" class=\"dataframe\">\n",
       "  <thead>\n",
       "    <tr style=\"text-align: right;\">\n",
       "      <th></th>\n",
       "      <th>Nombre</th>\n",
       "      <th>Edad</th>\n",
       "      <th>Ciudad</th>\n",
       "      <th>Salario</th>\n",
       "      <th>Departamento</th>\n",
       "    </tr>\n",
       "  </thead>\n",
       "  <tbody>\n",
       "    <tr>\n",
       "      <th>0</th>\n",
       "      <td>Ana</td>\n",
       "      <td>23</td>\n",
       "      <td>CDMX</td>\n",
       "      <td>12000</td>\n",
       "      <td>Ventas</td>\n",
       "    </tr>\n",
       "    <tr>\n",
       "      <th>3</th>\n",
       "      <td>Lucia</td>\n",
       "      <td>25</td>\n",
       "      <td>CDMX</td>\n",
       "      <td>12500</td>\n",
       "      <td>TI</td>\n",
       "    </tr>\n",
       "    <tr>\n",
       "      <th>5</th>\n",
       "      <td>Jorge</td>\n",
       "      <td>28</td>\n",
       "      <td>CDMX</td>\n",
       "      <td>13000</td>\n",
       "      <td>Marketing</td>\n",
       "    </tr>\n",
       "    <tr>\n",
       "      <th>1</th>\n",
       "      <td>Luis</td>\n",
       "      <td>35</td>\n",
       "      <td>Guadalajara</td>\n",
       "      <td>15000</td>\n",
       "      <td>Marketing</td>\n",
       "    </tr>\n",
       "    <tr>\n",
       "      <th>6</th>\n",
       "      <td>Sofia</td>\n",
       "      <td>32</td>\n",
       "      <td>Guadalajara</td>\n",
       "      <td>15500</td>\n",
       "      <td>Ventas</td>\n",
       "    </tr>\n",
       "    <tr>\n",
       "      <th>2</th>\n",
       "      <td>Carlos</td>\n",
       "      <td>45</td>\n",
       "      <td>Monterrey</td>\n",
       "      <td>18000</td>\n",
       "      <td>Ventas</td>\n",
       "    </tr>\n",
       "    <tr>\n",
       "      <th>4</th>\n",
       "      <td>Martha</td>\n",
       "      <td>30</td>\n",
       "      <td>Puebla</td>\n",
       "      <td>14000</td>\n",
       "      <td>TI</td>\n",
       "    </tr>\n",
       "  </tbody>\n",
       "</table>\n",
       "</div>"
      ],
      "text/plain": [
       "   Nombre  Edad       Ciudad  Salario Departamento\n",
       "0     Ana    23         CDMX    12000       Ventas\n",
       "3   Lucia    25         CDMX    12500           TI\n",
       "5   Jorge    28         CDMX    13000    Marketing\n",
       "1    Luis    35  Guadalajara    15000    Marketing\n",
       "6   Sofia    32  Guadalajara    15500       Ventas\n",
       "2  Carlos    45    Monterrey    18000       Ventas\n",
       "4  Martha    30       Puebla    14000           TI"
      ]
     },
     "execution_count": 27,
     "metadata": {},
     "output_type": "execute_result"
    }
   ],
   "source": [
    "# Ordenar por el Salario y la Ciudad\n",
    "df.sort_values(by=['Ciudad', 'Salario'])"
   ]
  },
  {
   "cell_type": "code",
   "execution_count": 28,
   "id": "7dbafecf",
   "metadata": {},
   "outputs": [
    {
     "data": {
      "text/html": [
       "<div>\n",
       "<style scoped>\n",
       "    .dataframe tbody tr th:only-of-type {\n",
       "        vertical-align: middle;\n",
       "    }\n",
       "\n",
       "    .dataframe tbody tr th {\n",
       "        vertical-align: top;\n",
       "    }\n",
       "\n",
       "    .dataframe thead th {\n",
       "        text-align: right;\n",
       "    }\n",
       "</style>\n",
       "<table border=\"1\" class=\"dataframe\">\n",
       "  <thead>\n",
       "    <tr style=\"text-align: right;\">\n",
       "      <th></th>\n",
       "      <th>Nombre</th>\n",
       "      <th>Edad</th>\n",
       "      <th>Ciudad</th>\n",
       "      <th>Salario</th>\n",
       "      <th>Departamento</th>\n",
       "    </tr>\n",
       "  </thead>\n",
       "  <tbody>\n",
       "    <tr>\n",
       "      <th>0</th>\n",
       "      <td>Ana</td>\n",
       "      <td>23</td>\n",
       "      <td>CDMX</td>\n",
       "      <td>12000</td>\n",
       "      <td>Ventas</td>\n",
       "    </tr>\n",
       "    <tr>\n",
       "      <th>3</th>\n",
       "      <td>Lucia</td>\n",
       "      <td>25</td>\n",
       "      <td>CDMX</td>\n",
       "      <td>12500</td>\n",
       "      <td>TI</td>\n",
       "    </tr>\n",
       "    <tr>\n",
       "      <th>5</th>\n",
       "      <td>Jorge</td>\n",
       "      <td>28</td>\n",
       "      <td>CDMX</td>\n",
       "      <td>13000</td>\n",
       "      <td>Marketing</td>\n",
       "    </tr>\n",
       "    <tr>\n",
       "      <th>1</th>\n",
       "      <td>Luis</td>\n",
       "      <td>35</td>\n",
       "      <td>Guadalajara</td>\n",
       "      <td>15000</td>\n",
       "      <td>Marketing</td>\n",
       "    </tr>\n",
       "    <tr>\n",
       "      <th>6</th>\n",
       "      <td>Sofia</td>\n",
       "      <td>32</td>\n",
       "      <td>Guadalajara</td>\n",
       "      <td>15500</td>\n",
       "      <td>Ventas</td>\n",
       "    </tr>\n",
       "    <tr>\n",
       "      <th>2</th>\n",
       "      <td>Carlos</td>\n",
       "      <td>45</td>\n",
       "      <td>Monterrey</td>\n",
       "      <td>18000</td>\n",
       "      <td>Ventas</td>\n",
       "    </tr>\n",
       "    <tr>\n",
       "      <th>4</th>\n",
       "      <td>Martha</td>\n",
       "      <td>30</td>\n",
       "      <td>Puebla</td>\n",
       "      <td>14000</td>\n",
       "      <td>TI</td>\n",
       "    </tr>\n",
       "  </tbody>\n",
       "</table>\n",
       "</div>"
      ],
      "text/plain": [
       "   Nombre  Edad       Ciudad  Salario Departamento\n",
       "0     Ana    23         CDMX    12000       Ventas\n",
       "3   Lucia    25         CDMX    12500           TI\n",
       "5   Jorge    28         CDMX    13000    Marketing\n",
       "1    Luis    35  Guadalajara    15000    Marketing\n",
       "6   Sofia    32  Guadalajara    15500       Ventas\n",
       "2  Carlos    45    Monterrey    18000       Ventas\n",
       "4  Martha    30       Puebla    14000           TI"
      ]
     },
     "execution_count": 28,
     "metadata": {},
     "output_type": "execute_result"
    }
   ],
   "source": [
    "# Ordenar por el Salario y la Ciudad\n",
    "df.sort_values(by=['Ciudad', 'Salario'], ascending=[True, True])"
   ]
  },
  {
   "cell_type": "code",
   "execution_count": 29,
   "id": "c3471012",
   "metadata": {},
   "outputs": [
    {
     "data": {
      "text/html": [
       "<div>\n",
       "<style scoped>\n",
       "    .dataframe tbody tr th:only-of-type {\n",
       "        vertical-align: middle;\n",
       "    }\n",
       "\n",
       "    .dataframe tbody tr th {\n",
       "        vertical-align: top;\n",
       "    }\n",
       "\n",
       "    .dataframe thead th {\n",
       "        text-align: right;\n",
       "    }\n",
       "</style>\n",
       "<table border=\"1\" class=\"dataframe\">\n",
       "  <thead>\n",
       "    <tr style=\"text-align: right;\">\n",
       "      <th></th>\n",
       "      <th>Nombre</th>\n",
       "      <th>Edad</th>\n",
       "      <th>Ciudad</th>\n",
       "      <th>Salario</th>\n",
       "      <th>Departamento</th>\n",
       "    </tr>\n",
       "  </thead>\n",
       "  <tbody>\n",
       "    <tr>\n",
       "      <th>5</th>\n",
       "      <td>Jorge</td>\n",
       "      <td>28</td>\n",
       "      <td>CDMX</td>\n",
       "      <td>13000</td>\n",
       "      <td>Marketing</td>\n",
       "    </tr>\n",
       "    <tr>\n",
       "      <th>3</th>\n",
       "      <td>Lucia</td>\n",
       "      <td>25</td>\n",
       "      <td>CDMX</td>\n",
       "      <td>12500</td>\n",
       "      <td>TI</td>\n",
       "    </tr>\n",
       "    <tr>\n",
       "      <th>0</th>\n",
       "      <td>Ana</td>\n",
       "      <td>23</td>\n",
       "      <td>CDMX</td>\n",
       "      <td>12000</td>\n",
       "      <td>Ventas</td>\n",
       "    </tr>\n",
       "    <tr>\n",
       "      <th>6</th>\n",
       "      <td>Sofia</td>\n",
       "      <td>32</td>\n",
       "      <td>Guadalajara</td>\n",
       "      <td>15500</td>\n",
       "      <td>Ventas</td>\n",
       "    </tr>\n",
       "    <tr>\n",
       "      <th>1</th>\n",
       "      <td>Luis</td>\n",
       "      <td>35</td>\n",
       "      <td>Guadalajara</td>\n",
       "      <td>15000</td>\n",
       "      <td>Marketing</td>\n",
       "    </tr>\n",
       "    <tr>\n",
       "      <th>2</th>\n",
       "      <td>Carlos</td>\n",
       "      <td>45</td>\n",
       "      <td>Monterrey</td>\n",
       "      <td>18000</td>\n",
       "      <td>Ventas</td>\n",
       "    </tr>\n",
       "    <tr>\n",
       "      <th>4</th>\n",
       "      <td>Martha</td>\n",
       "      <td>30</td>\n",
       "      <td>Puebla</td>\n",
       "      <td>14000</td>\n",
       "      <td>TI</td>\n",
       "    </tr>\n",
       "  </tbody>\n",
       "</table>\n",
       "</div>"
      ],
      "text/plain": [
       "   Nombre  Edad       Ciudad  Salario Departamento\n",
       "5   Jorge    28         CDMX    13000    Marketing\n",
       "3   Lucia    25         CDMX    12500           TI\n",
       "0     Ana    23         CDMX    12000       Ventas\n",
       "6   Sofia    32  Guadalajara    15500       Ventas\n",
       "1    Luis    35  Guadalajara    15000    Marketing\n",
       "2  Carlos    45    Monterrey    18000       Ventas\n",
       "4  Martha    30       Puebla    14000           TI"
      ]
     },
     "execution_count": 29,
     "metadata": {},
     "output_type": "execute_result"
    }
   ],
   "source": [
    "# Ordenar por el Salario y la Ciudad\n",
    "df.sort_values(by=['Ciudad', 'Salario'], ascending=[True, False])"
   ]
  },
  {
   "cell_type": "code",
   "execution_count": 30,
   "id": "52fb0b2d",
   "metadata": {},
   "outputs": [
    {
     "data": {
      "text/html": [
       "<div>\n",
       "<style scoped>\n",
       "    .dataframe tbody tr th:only-of-type {\n",
       "        vertical-align: middle;\n",
       "    }\n",
       "\n",
       "    .dataframe tbody tr th {\n",
       "        vertical-align: top;\n",
       "    }\n",
       "\n",
       "    .dataframe thead th {\n",
       "        text-align: right;\n",
       "    }\n",
       "</style>\n",
       "<table border=\"1\" class=\"dataframe\">\n",
       "  <thead>\n",
       "    <tr style=\"text-align: right;\">\n",
       "      <th></th>\n",
       "      <th>Nombre</th>\n",
       "      <th>Edad</th>\n",
       "      <th>Ciudad</th>\n",
       "      <th>Salario</th>\n",
       "      <th>Departamento</th>\n",
       "    </tr>\n",
       "  </thead>\n",
       "  <tbody>\n",
       "    <tr>\n",
       "      <th>4</th>\n",
       "      <td>Martha</td>\n",
       "      <td>30</td>\n",
       "      <td>Puebla</td>\n",
       "      <td>14000</td>\n",
       "      <td>TI</td>\n",
       "    </tr>\n",
       "    <tr>\n",
       "      <th>2</th>\n",
       "      <td>Carlos</td>\n",
       "      <td>45</td>\n",
       "      <td>Monterrey</td>\n",
       "      <td>18000</td>\n",
       "      <td>Ventas</td>\n",
       "    </tr>\n",
       "    <tr>\n",
       "      <th>1</th>\n",
       "      <td>Luis</td>\n",
       "      <td>35</td>\n",
       "      <td>Guadalajara</td>\n",
       "      <td>15000</td>\n",
       "      <td>Marketing</td>\n",
       "    </tr>\n",
       "    <tr>\n",
       "      <th>6</th>\n",
       "      <td>Sofia</td>\n",
       "      <td>32</td>\n",
       "      <td>Guadalajara</td>\n",
       "      <td>15500</td>\n",
       "      <td>Ventas</td>\n",
       "    </tr>\n",
       "    <tr>\n",
       "      <th>0</th>\n",
       "      <td>Ana</td>\n",
       "      <td>23</td>\n",
       "      <td>CDMX</td>\n",
       "      <td>12000</td>\n",
       "      <td>Ventas</td>\n",
       "    </tr>\n",
       "    <tr>\n",
       "      <th>3</th>\n",
       "      <td>Lucia</td>\n",
       "      <td>25</td>\n",
       "      <td>CDMX</td>\n",
       "      <td>12500</td>\n",
       "      <td>TI</td>\n",
       "    </tr>\n",
       "    <tr>\n",
       "      <th>5</th>\n",
       "      <td>Jorge</td>\n",
       "      <td>28</td>\n",
       "      <td>CDMX</td>\n",
       "      <td>13000</td>\n",
       "      <td>Marketing</td>\n",
       "    </tr>\n",
       "  </tbody>\n",
       "</table>\n",
       "</div>"
      ],
      "text/plain": [
       "   Nombre  Edad       Ciudad  Salario Departamento\n",
       "4  Martha    30       Puebla    14000           TI\n",
       "2  Carlos    45    Monterrey    18000       Ventas\n",
       "1    Luis    35  Guadalajara    15000    Marketing\n",
       "6   Sofia    32  Guadalajara    15500       Ventas\n",
       "0     Ana    23         CDMX    12000       Ventas\n",
       "3   Lucia    25         CDMX    12500           TI\n",
       "5   Jorge    28         CDMX    13000    Marketing"
      ]
     },
     "execution_count": 30,
     "metadata": {},
     "output_type": "execute_result"
    }
   ],
   "source": [
    "# Ordenar por el Salario y la Ciudad\n",
    "df.sort_values(by=['Ciudad', 'Salario'], ascending=[False, True])"
   ]
  },
  {
   "cell_type": "code",
   "execution_count": 31,
   "id": "c87d477f",
   "metadata": {},
   "outputs": [
    {
     "data": {
      "text/html": [
       "<div>\n",
       "<style scoped>\n",
       "    .dataframe tbody tr th:only-of-type {\n",
       "        vertical-align: middle;\n",
       "    }\n",
       "\n",
       "    .dataframe tbody tr th {\n",
       "        vertical-align: top;\n",
       "    }\n",
       "\n",
       "    .dataframe thead th {\n",
       "        text-align: right;\n",
       "    }\n",
       "</style>\n",
       "<table border=\"1\" class=\"dataframe\">\n",
       "  <thead>\n",
       "    <tr style=\"text-align: right;\">\n",
       "      <th></th>\n",
       "      <th>Nombre</th>\n",
       "      <th>Edad</th>\n",
       "      <th>Ciudad</th>\n",
       "      <th>Salario</th>\n",
       "      <th>Departamento</th>\n",
       "    </tr>\n",
       "  </thead>\n",
       "  <tbody>\n",
       "    <tr>\n",
       "      <th>4</th>\n",
       "      <td>Martha</td>\n",
       "      <td>30</td>\n",
       "      <td>Puebla</td>\n",
       "      <td>14000</td>\n",
       "      <td>TI</td>\n",
       "    </tr>\n",
       "    <tr>\n",
       "      <th>2</th>\n",
       "      <td>Carlos</td>\n",
       "      <td>45</td>\n",
       "      <td>Monterrey</td>\n",
       "      <td>18000</td>\n",
       "      <td>Ventas</td>\n",
       "    </tr>\n",
       "    <tr>\n",
       "      <th>6</th>\n",
       "      <td>Sofia</td>\n",
       "      <td>32</td>\n",
       "      <td>Guadalajara</td>\n",
       "      <td>15500</td>\n",
       "      <td>Ventas</td>\n",
       "    </tr>\n",
       "    <tr>\n",
       "      <th>1</th>\n",
       "      <td>Luis</td>\n",
       "      <td>35</td>\n",
       "      <td>Guadalajara</td>\n",
       "      <td>15000</td>\n",
       "      <td>Marketing</td>\n",
       "    </tr>\n",
       "    <tr>\n",
       "      <th>5</th>\n",
       "      <td>Jorge</td>\n",
       "      <td>28</td>\n",
       "      <td>CDMX</td>\n",
       "      <td>13000</td>\n",
       "      <td>Marketing</td>\n",
       "    </tr>\n",
       "    <tr>\n",
       "      <th>3</th>\n",
       "      <td>Lucia</td>\n",
       "      <td>25</td>\n",
       "      <td>CDMX</td>\n",
       "      <td>12500</td>\n",
       "      <td>TI</td>\n",
       "    </tr>\n",
       "    <tr>\n",
       "      <th>0</th>\n",
       "      <td>Ana</td>\n",
       "      <td>23</td>\n",
       "      <td>CDMX</td>\n",
       "      <td>12000</td>\n",
       "      <td>Ventas</td>\n",
       "    </tr>\n",
       "  </tbody>\n",
       "</table>\n",
       "</div>"
      ],
      "text/plain": [
       "   Nombre  Edad       Ciudad  Salario Departamento\n",
       "4  Martha    30       Puebla    14000           TI\n",
       "2  Carlos    45    Monterrey    18000       Ventas\n",
       "6   Sofia    32  Guadalajara    15500       Ventas\n",
       "1    Luis    35  Guadalajara    15000    Marketing\n",
       "5   Jorge    28         CDMX    13000    Marketing\n",
       "3   Lucia    25         CDMX    12500           TI\n",
       "0     Ana    23         CDMX    12000       Ventas"
      ]
     },
     "execution_count": 31,
     "metadata": {},
     "output_type": "execute_result"
    }
   ],
   "source": [
    "# Ordenar por el Salario y la Ciudad\n",
    "df.sort_values(by=['Ciudad', 'Salario'], ascending=[False, False])"
   ]
  },
  {
   "cell_type": "code",
   "execution_count": 32,
   "id": "184488aa",
   "metadata": {},
   "outputs": [
    {
     "data": {
      "text/html": [
       "<div>\n",
       "<style scoped>\n",
       "    .dataframe tbody tr th:only-of-type {\n",
       "        vertical-align: middle;\n",
       "    }\n",
       "\n",
       "    .dataframe tbody tr th {\n",
       "        vertical-align: top;\n",
       "    }\n",
       "\n",
       "    .dataframe thead th {\n",
       "        text-align: right;\n",
       "    }\n",
       "</style>\n",
       "<table border=\"1\" class=\"dataframe\">\n",
       "  <thead>\n",
       "    <tr style=\"text-align: right;\">\n",
       "      <th></th>\n",
       "      <th>Nombre</th>\n",
       "      <th>Edad</th>\n",
       "      <th>Ciudad</th>\n",
       "      <th>Salario</th>\n",
       "      <th>Departamento</th>\n",
       "    </tr>\n",
       "  </thead>\n",
       "  <tbody>\n",
       "    <tr>\n",
       "      <th>0</th>\n",
       "      <td>Ana</td>\n",
       "      <td>23</td>\n",
       "      <td>CDMX</td>\n",
       "      <td>12000</td>\n",
       "      <td>Ventas</td>\n",
       "    </tr>\n",
       "    <tr>\n",
       "      <th>3</th>\n",
       "      <td>Lucia</td>\n",
       "      <td>25</td>\n",
       "      <td>CDMX</td>\n",
       "      <td>12500</td>\n",
       "      <td>TI</td>\n",
       "    </tr>\n",
       "    <tr>\n",
       "      <th>5</th>\n",
       "      <td>Jorge</td>\n",
       "      <td>28</td>\n",
       "      <td>CDMX</td>\n",
       "      <td>13000</td>\n",
       "      <td>Marketing</td>\n",
       "    </tr>\n",
       "    <tr>\n",
       "      <th>4</th>\n",
       "      <td>Martha</td>\n",
       "      <td>30</td>\n",
       "      <td>Puebla</td>\n",
       "      <td>14000</td>\n",
       "      <td>TI</td>\n",
       "    </tr>\n",
       "  </tbody>\n",
       "</table>\n",
       "</div>"
      ],
      "text/plain": [
       "   Nombre  Edad  Ciudad  Salario Departamento\n",
       "0     Ana    23    CDMX    12000       Ventas\n",
       "3   Lucia    25    CDMX    12500           TI\n",
       "5   Jorge    28    CDMX    13000    Marketing\n",
       "4  Martha    30  Puebla    14000           TI"
      ]
     },
     "execution_count": 32,
     "metadata": {},
     "output_type": "execute_result"
    }
   ],
   "source": [
    "df[(df['Ciudad'] == 'CDMX') | (df['Departamento'] == 'TI')].sort_values(by=['Edad', 'Departamento'], ascending=[True, False])"
   ]
  },
  {
   "cell_type": "markdown",
   "id": "d6a5ef95",
   "metadata": {},
   "source": [
    "## 6. Crear Nuevas Columnas"
   ]
  },
  {
   "cell_type": "code",
   "execution_count": 33,
   "id": "347ad517",
   "metadata": {},
   "outputs": [],
   "source": [
    "df['Salario_Anual'] = df['Salario'] * 12"
   ]
  },
  {
   "cell_type": "code",
   "execution_count": 34,
   "id": "9166a78b",
   "metadata": {},
   "outputs": [
    {
     "data": {
      "text/html": [
       "<div>\n",
       "<style scoped>\n",
       "    .dataframe tbody tr th:only-of-type {\n",
       "        vertical-align: middle;\n",
       "    }\n",
       "\n",
       "    .dataframe tbody tr th {\n",
       "        vertical-align: top;\n",
       "    }\n",
       "\n",
       "    .dataframe thead th {\n",
       "        text-align: right;\n",
       "    }\n",
       "</style>\n",
       "<table border=\"1\" class=\"dataframe\">\n",
       "  <thead>\n",
       "    <tr style=\"text-align: right;\">\n",
       "      <th></th>\n",
       "      <th>Nombre</th>\n",
       "      <th>Edad</th>\n",
       "      <th>Ciudad</th>\n",
       "      <th>Salario</th>\n",
       "      <th>Departamento</th>\n",
       "      <th>Salario_Anual</th>\n",
       "    </tr>\n",
       "  </thead>\n",
       "  <tbody>\n",
       "    <tr>\n",
       "      <th>0</th>\n",
       "      <td>Ana</td>\n",
       "      <td>23</td>\n",
       "      <td>CDMX</td>\n",
       "      <td>12000</td>\n",
       "      <td>Ventas</td>\n",
       "      <td>144000</td>\n",
       "    </tr>\n",
       "    <tr>\n",
       "      <th>1</th>\n",
       "      <td>Luis</td>\n",
       "      <td>35</td>\n",
       "      <td>Guadalajara</td>\n",
       "      <td>15000</td>\n",
       "      <td>Marketing</td>\n",
       "      <td>180000</td>\n",
       "    </tr>\n",
       "    <tr>\n",
       "      <th>2</th>\n",
       "      <td>Carlos</td>\n",
       "      <td>45</td>\n",
       "      <td>Monterrey</td>\n",
       "      <td>18000</td>\n",
       "      <td>Ventas</td>\n",
       "      <td>216000</td>\n",
       "    </tr>\n",
       "    <tr>\n",
       "      <th>3</th>\n",
       "      <td>Lucia</td>\n",
       "      <td>25</td>\n",
       "      <td>CDMX</td>\n",
       "      <td>12500</td>\n",
       "      <td>TI</td>\n",
       "      <td>150000</td>\n",
       "    </tr>\n",
       "    <tr>\n",
       "      <th>4</th>\n",
       "      <td>Martha</td>\n",
       "      <td>30</td>\n",
       "      <td>Puebla</td>\n",
       "      <td>14000</td>\n",
       "      <td>TI</td>\n",
       "      <td>168000</td>\n",
       "    </tr>\n",
       "    <tr>\n",
       "      <th>5</th>\n",
       "      <td>Jorge</td>\n",
       "      <td>28</td>\n",
       "      <td>CDMX</td>\n",
       "      <td>13000</td>\n",
       "      <td>Marketing</td>\n",
       "      <td>156000</td>\n",
       "    </tr>\n",
       "    <tr>\n",
       "      <th>6</th>\n",
       "      <td>Sofia</td>\n",
       "      <td>32</td>\n",
       "      <td>Guadalajara</td>\n",
       "      <td>15500</td>\n",
       "      <td>Ventas</td>\n",
       "      <td>186000</td>\n",
       "    </tr>\n",
       "  </tbody>\n",
       "</table>\n",
       "</div>"
      ],
      "text/plain": [
       "   Nombre  Edad       Ciudad  Salario Departamento  Salario_Anual\n",
       "0     Ana    23         CDMX    12000       Ventas         144000\n",
       "1    Luis    35  Guadalajara    15000    Marketing         180000\n",
       "2  Carlos    45    Monterrey    18000       Ventas         216000\n",
       "3   Lucia    25         CDMX    12500           TI         150000\n",
       "4  Martha    30       Puebla    14000           TI         168000\n",
       "5   Jorge    28         CDMX    13000    Marketing         156000\n",
       "6   Sofia    32  Guadalajara    15500       Ventas         186000"
      ]
     },
     "execution_count": 34,
     "metadata": {},
     "output_type": "execute_result"
    }
   ],
   "source": [
    "df"
   ]
  }
 ],
 "metadata": {
  "kernelspec": {
   "display_name": "Python 3",
   "language": "python",
   "name": "python3"
  },
  "language_info": {
   "codemirror_mode": {
    "name": "ipython",
    "version": 3
   },
   "file_extension": ".py",
   "mimetype": "text/x-python",
   "name": "python",
   "nbconvert_exporter": "python",
   "pygments_lexer": "ipython3",
   "version": "3.13.3"
  }
 },
 "nbformat": 4,
 "nbformat_minor": 5
}
