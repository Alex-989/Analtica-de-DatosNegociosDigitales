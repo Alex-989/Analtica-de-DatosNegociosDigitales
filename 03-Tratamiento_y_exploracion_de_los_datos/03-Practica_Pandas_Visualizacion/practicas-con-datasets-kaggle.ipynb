{
 "cells": [
  {
   "cell_type": "markdown",
   "id": "72d21b06",
   "metadata": {},
   "source": [
    "# 🧪 Prácticas por Dataset de Kaggle"
   ]
  },
  {
   "cell_type": "markdown",
   "id": "a6eb189a",
   "metadata": {},
   "source": [
    "## 🛍️ Retail Sales Dataset"
   ]
  },
  {
   "cell_type": "markdown",
   "id": "02061b7c",
   "metadata": {},
   "source": [
    "🔗 Dataset disponible en: [https://www.kaggle.com/datasets/mohammadtalib786/retail-sales-dataset?utm_source=chatgpt.com](https://www.kaggle.com/datasets/mohammadtalib786/retail-sales-dataset?utm_source=chatgpt.com)"
   ]
  },
  {
   "cell_type": "code",
   "execution_count": 1,
   "id": "415fe984",
   "metadata": {},
   "outputs": [],
   "source": [
    "import pandas as pd"
   ]
  },
  {
   "cell_type": "code",
   "execution_count": 2,
   "id": "593f825c",
   "metadata": {},
   "outputs": [],
   "source": [
    "df_retail = pd.read_csv('./Datasets/retail_sales_dataset.csv')"
   ]
  },
  {
   "cell_type": "code",
   "execution_count": 4,
   "id": "31336d6c",
   "metadata": {},
   "outputs": [
    {
     "data": {
      "text/html": [
       "<div>\n",
       "<style scoped>\n",
       "    .dataframe tbody tr th:only-of-type {\n",
       "        vertical-align: middle;\n",
       "    }\n",
       "\n",
       "    .dataframe tbody tr th {\n",
       "        vertical-align: top;\n",
       "    }\n",
       "\n",
       "    .dataframe thead th {\n",
       "        text-align: right;\n",
       "    }\n",
       "</style>\n",
       "<table border=\"1\" class=\"dataframe\">\n",
       "  <thead>\n",
       "    <tr style=\"text-align: right;\">\n",
       "      <th></th>\n",
       "      <th>Transaction ID</th>\n",
       "      <th>Date</th>\n",
       "      <th>Customer ID</th>\n",
       "      <th>Gender</th>\n",
       "      <th>Age</th>\n",
       "      <th>Product Category</th>\n",
       "      <th>Quantity</th>\n",
       "      <th>Price per Unit</th>\n",
       "      <th>Total Amount</th>\n",
       "    </tr>\n",
       "  </thead>\n",
       "  <tbody>\n",
       "    <tr>\n",
       "      <th>0</th>\n",
       "      <td>1</td>\n",
       "      <td>2023-11-24</td>\n",
       "      <td>CUST001</td>\n",
       "      <td>Male</td>\n",
       "      <td>34</td>\n",
       "      <td>Beauty</td>\n",
       "      <td>3</td>\n",
       "      <td>50</td>\n",
       "      <td>150</td>\n",
       "    </tr>\n",
       "    <tr>\n",
       "      <th>1</th>\n",
       "      <td>2</td>\n",
       "      <td>2023-02-27</td>\n",
       "      <td>CUST002</td>\n",
       "      <td>Female</td>\n",
       "      <td>26</td>\n",
       "      <td>Clothing</td>\n",
       "      <td>2</td>\n",
       "      <td>500</td>\n",
       "      <td>1000</td>\n",
       "    </tr>\n",
       "    <tr>\n",
       "      <th>2</th>\n",
       "      <td>3</td>\n",
       "      <td>2023-01-13</td>\n",
       "      <td>CUST003</td>\n",
       "      <td>Male</td>\n",
       "      <td>50</td>\n",
       "      <td>Electronics</td>\n",
       "      <td>1</td>\n",
       "      <td>30</td>\n",
       "      <td>30</td>\n",
       "    </tr>\n",
       "    <tr>\n",
       "      <th>3</th>\n",
       "      <td>4</td>\n",
       "      <td>2023-05-21</td>\n",
       "      <td>CUST004</td>\n",
       "      <td>Male</td>\n",
       "      <td>37</td>\n",
       "      <td>Clothing</td>\n",
       "      <td>1</td>\n",
       "      <td>500</td>\n",
       "      <td>500</td>\n",
       "    </tr>\n",
       "    <tr>\n",
       "      <th>4</th>\n",
       "      <td>5</td>\n",
       "      <td>2023-05-06</td>\n",
       "      <td>CUST005</td>\n",
       "      <td>Male</td>\n",
       "      <td>30</td>\n",
       "      <td>Beauty</td>\n",
       "      <td>2</td>\n",
       "      <td>50</td>\n",
       "      <td>100</td>\n",
       "    </tr>\n",
       "  </tbody>\n",
       "</table>\n",
       "</div>"
      ],
      "text/plain": [
       "   Transaction ID        Date Customer ID  Gender  Age Product Category  \\\n",
       "0               1  2023-11-24     CUST001    Male   34           Beauty   \n",
       "1               2  2023-02-27     CUST002  Female   26         Clothing   \n",
       "2               3  2023-01-13     CUST003    Male   50      Electronics   \n",
       "3               4  2023-05-21     CUST004    Male   37         Clothing   \n",
       "4               5  2023-05-06     CUST005    Male   30           Beauty   \n",
       "\n",
       "   Quantity  Price per Unit  Total Amount  \n",
       "0         3              50           150  \n",
       "1         2             500          1000  \n",
       "2         1              30            30  \n",
       "3         1             500           500  \n",
       "4         2              50           100  "
      ]
     },
     "execution_count": 4,
     "metadata": {},
     "output_type": "execute_result"
    }
   ],
   "source": [
    "df_retail.head()"
   ]
  },
  {
   "cell_type": "markdown",
   "id": "96599d3f",
   "metadata": {},
   "source": [
    "**Pregunta:** ¿Cuántas filas y columnas tiene el dataset?"
   ]
  },
  {
   "cell_type": "code",
   "execution_count": null,
   "id": "37531725",
   "metadata": {},
   "outputs": [
    {
     "data": {
      "text/plain": [
       "(1000, 9)"
      ]
     },
     "execution_count": 3,
     "metadata": {},
     "output_type": "execute_result"
    }
   ],
   "source": [
    "# Tu código aquí\n",
    "df_retail.shape"
   ]
  },
  {
   "cell_type": "markdown",
   "id": "e07757d0",
   "metadata": {},
   "source": [
    "**Pregunta:** ¿Cuáles son los tipos de datos de cada columna?"
   ]
  },
  {
   "cell_type": "code",
   "execution_count": 9,
   "id": "bffb05e9",
   "metadata": {},
   "outputs": [
    {
     "data": {
      "text/plain": [
       "Transaction ID       int64\n",
       "Date                object\n",
       "Customer ID         object\n",
       "Gender              object\n",
       "Age                  int64\n",
       "Product Category    object\n",
       "Quantity             int64\n",
       "Price per Unit       int64\n",
       "Total Amount         int64\n",
       "dtype: object"
      ]
     },
     "execution_count": 9,
     "metadata": {},
     "output_type": "execute_result"
    }
   ],
   "source": [
    "# Tu código aquí\n",
    "df_retail.dtypes"
   ]
  },
  {
   "cell_type": "markdown",
   "id": "6630efce",
   "metadata": {},
   "source": [
    "**Pregunta:** ¿Qué productos tienen mayores ventas en cantidad?"
   ]
  },
  {
   "cell_type": "code",
   "execution_count": 13,
   "id": "b131e104",
   "metadata": {},
   "outputs": [
    {
     "data": {
      "text/plain": [
       "Product Category\n",
       "Clothing       894\n",
       "Electronics    849\n",
       "Beauty         771\n",
       "Name: Quantity, dtype: int64"
      ]
     },
     "execution_count": 13,
     "metadata": {},
     "output_type": "execute_result"
    }
   ],
   "source": [
    "# Tu código aquí\n",
    "ventas_por_productos = df_retail.groupby('Product Category')['Quantity'].sum()\n",
    "ventas_por_productos = ventas_por_productos.sort_values(ascending=False)\n",
    "ventas_por_productos"
   ]
  },
  {
   "cell_type": "markdown",
   "id": "43679905",
   "metadata": {},
   "source": [
    "**Pregunta:** ¿Qué tiendas venden más productos?"
   ]
  },
  {
   "cell_type": "code",
   "execution_count": 16,
   "id": "84090e4f",
   "metadata": {},
   "outputs": [
    {
     "data": {
      "text/plain": [
       "Customer ID\n",
       "CUST008    4\n",
       "CUST010    4\n",
       "CUST014    4\n",
       "CUST726    4\n",
       "CUST729    4\n",
       "          ..\n",
       "CUST973    1\n",
       "CUST974    1\n",
       "CUST979    1\n",
       "CUST004    1\n",
       "CUST003    1\n",
       "Name: Quantity, Length: 1000, dtype: int64"
      ]
     },
     "execution_count": 16,
     "metadata": {},
     "output_type": "execute_result"
    }
   ],
   "source": [
    "# Tu código aquí\n",
    "ventas_por_tienda = df_retail.groupby('Customer ID')['Quantity'].sum()\n",
    "ventas_por_tienda = ventas_por_tienda.sort_values(ascending=False)\n",
    "ventas_por_tienda"
   ]
  },
  {
   "cell_type": "markdown",
   "id": "24c5fba1",
   "metadata": {},
   "source": [
    "**Pregunta:** ¿Existen datos faltantes o duplicados?"
   ]
  },
  {
   "cell_type": "code",
   "execution_count": 20,
   "id": "1e6f51e5",
   "metadata": {},
   "outputs": [
    {
     "data": {
      "text/plain": [
       "np.int64(0)"
      ]
     },
     "execution_count": 20,
     "metadata": {},
     "output_type": "execute_result"
    }
   ],
   "source": [
    "# Tu código aquí\n",
    "\n",
    "# Datos faltantes\n",
    "datos_faltantes = df_retail.isnull().sum()\n",
    "datos_faltantes\n",
    "\n",
    "# Datos duplicadas\n",
    "datos_duplicados = df_retail.duplicated().sum()\n",
    "datos_duplicados"
   ]
  },
  {
   "cell_type": "markdown",
   "id": "5a5ab1bf",
   "metadata": {},
   "source": [
    "**Pregunta:** ¿Cuál es el ingreso total por tienda?"
   ]
  },
  {
   "cell_type": "code",
   "execution_count": 21,
   "id": "800fd9c4",
   "metadata": {},
   "outputs": [
    {
     "data": {
      "text/plain": [
       "Customer ID\n",
       "CUST015    2000\n",
       "CUST412    2000\n",
       "CUST970    2000\n",
       "CUST547    2000\n",
       "CUST281    2000\n",
       "           ... \n",
       "CUST379      25\n",
       "CUST952      25\n",
       "CUST371      25\n",
       "CUST397      25\n",
       "CUST955      25\n",
       "Name: Total Amount, Length: 1000, dtype: int64"
      ]
     },
     "execution_count": 21,
     "metadata": {},
     "output_type": "execute_result"
    }
   ],
   "source": [
    "# Tu código aquí\n",
    "ingreso_total_por_tienda = df_retail.groupby('Customer ID')['Total Amount'].sum()\n",
    "ingreso_total_por_tienda = ingreso_total_por_tienda.sort_values(ascending=False)\n",
    "ingreso_total_por_tienda"
   ]
  },
  {
   "cell_type": "markdown",
   "id": "59869563",
   "metadata": {},
   "source": [
    "**Pregunta:** Agrupa las ventas por tipo de producto y encuentra la media de precios."
   ]
  },
  {
   "cell_type": "code",
   "execution_count": 28,
   "id": "877429e9",
   "metadata": {},
   "outputs": [
    {
     "data": {
      "text/plain": [
       "Product Category\n",
       "Beauty         184.055375\n",
       "Clothing       174.287749\n",
       "Electronics    181.900585\n",
       "Name: Price per Unit, dtype: float64"
      ]
     },
     "execution_count": 28,
     "metadata": {},
     "output_type": "execute_result"
    }
   ],
   "source": [
    "# Tu código aquí\n",
    "media_de_precios = df_retail.groupby('Product Category')['Price per Unit'].mean()\n",
    "media_de_precios"
   ]
  },
  {
   "cell_type": "markdown",
   "id": "de016c86",
   "metadata": {},
   "source": [
    "**Pregunta:** Crea una nueva columna llamada `ingreso_total` que sea precio * cantidad."
   ]
  },
  {
   "cell_type": "code",
   "execution_count": 29,
   "id": "051f5a3f",
   "metadata": {},
   "outputs": [
    {
     "data": {
      "text/html": [
       "<div>\n",
       "<style scoped>\n",
       "    .dataframe tbody tr th:only-of-type {\n",
       "        vertical-align: middle;\n",
       "    }\n",
       "\n",
       "    .dataframe tbody tr th {\n",
       "        vertical-align: top;\n",
       "    }\n",
       "\n",
       "    .dataframe thead th {\n",
       "        text-align: right;\n",
       "    }\n",
       "</style>\n",
       "<table border=\"1\" class=\"dataframe\">\n",
       "  <thead>\n",
       "    <tr style=\"text-align: right;\">\n",
       "      <th></th>\n",
       "      <th>Transaction ID</th>\n",
       "      <th>Date</th>\n",
       "      <th>Customer ID</th>\n",
       "      <th>Gender</th>\n",
       "      <th>Age</th>\n",
       "      <th>Product Category</th>\n",
       "      <th>Quantity</th>\n",
       "      <th>Price per Unit</th>\n",
       "      <th>Total Amount</th>\n",
       "    </tr>\n",
       "  </thead>\n",
       "  <tbody>\n",
       "    <tr>\n",
       "      <th>0</th>\n",
       "      <td>1</td>\n",
       "      <td>2023-11-24</td>\n",
       "      <td>CUST001</td>\n",
       "      <td>Male</td>\n",
       "      <td>34</td>\n",
       "      <td>Beauty</td>\n",
       "      <td>3</td>\n",
       "      <td>50</td>\n",
       "      <td>150</td>\n",
       "    </tr>\n",
       "    <tr>\n",
       "      <th>1</th>\n",
       "      <td>2</td>\n",
       "      <td>2023-02-27</td>\n",
       "      <td>CUST002</td>\n",
       "      <td>Female</td>\n",
       "      <td>26</td>\n",
       "      <td>Clothing</td>\n",
       "      <td>2</td>\n",
       "      <td>500</td>\n",
       "      <td>1000</td>\n",
       "    </tr>\n",
       "    <tr>\n",
       "      <th>2</th>\n",
       "      <td>3</td>\n",
       "      <td>2023-01-13</td>\n",
       "      <td>CUST003</td>\n",
       "      <td>Male</td>\n",
       "      <td>50</td>\n",
       "      <td>Electronics</td>\n",
       "      <td>1</td>\n",
       "      <td>30</td>\n",
       "      <td>30</td>\n",
       "    </tr>\n",
       "    <tr>\n",
       "      <th>3</th>\n",
       "      <td>4</td>\n",
       "      <td>2023-05-21</td>\n",
       "      <td>CUST004</td>\n",
       "      <td>Male</td>\n",
       "      <td>37</td>\n",
       "      <td>Clothing</td>\n",
       "      <td>1</td>\n",
       "      <td>500</td>\n",
       "      <td>500</td>\n",
       "    </tr>\n",
       "    <tr>\n",
       "      <th>4</th>\n",
       "      <td>5</td>\n",
       "      <td>2023-05-06</td>\n",
       "      <td>CUST005</td>\n",
       "      <td>Male</td>\n",
       "      <td>30</td>\n",
       "      <td>Beauty</td>\n",
       "      <td>2</td>\n",
       "      <td>50</td>\n",
       "      <td>100</td>\n",
       "    </tr>\n",
       "  </tbody>\n",
       "</table>\n",
       "</div>"
      ],
      "text/plain": [
       "   Transaction ID        Date Customer ID  Gender  Age Product Category  \\\n",
       "0               1  2023-11-24     CUST001    Male   34           Beauty   \n",
       "1               2  2023-02-27     CUST002  Female   26         Clothing   \n",
       "2               3  2023-01-13     CUST003    Male   50      Electronics   \n",
       "3               4  2023-05-21     CUST004    Male   37         Clothing   \n",
       "4               5  2023-05-06     CUST005    Male   30           Beauty   \n",
       "\n",
       "   Quantity  Price per Unit  Total Amount  \n",
       "0         3              50           150  \n",
       "1         2             500          1000  \n",
       "2         1              30            30  \n",
       "3         1             500           500  \n",
       "4         2              50           100  "
      ]
     },
     "execution_count": 29,
     "metadata": {},
     "output_type": "execute_result"
    }
   ],
   "source": [
    "df_retail.head()"
   ]
  },
  {
   "cell_type": "code",
   "execution_count": 30,
   "id": "5154805b",
   "metadata": {},
   "outputs": [
    {
     "data": {
      "text/html": [
       "<div>\n",
       "<style scoped>\n",
       "    .dataframe tbody tr th:only-of-type {\n",
       "        vertical-align: middle;\n",
       "    }\n",
       "\n",
       "    .dataframe tbody tr th {\n",
       "        vertical-align: top;\n",
       "    }\n",
       "\n",
       "    .dataframe thead th {\n",
       "        text-align: right;\n",
       "    }\n",
       "</style>\n",
       "<table border=\"1\" class=\"dataframe\">\n",
       "  <thead>\n",
       "    <tr style=\"text-align: right;\">\n",
       "      <th></th>\n",
       "      <th>Transaction ID</th>\n",
       "      <th>Date</th>\n",
       "      <th>Customer ID</th>\n",
       "      <th>Gender</th>\n",
       "      <th>Age</th>\n",
       "      <th>Product Category</th>\n",
       "      <th>Quantity</th>\n",
       "      <th>Price per Unit</th>\n",
       "      <th>Total Amount</th>\n",
       "      <th>Ingreso Total</th>\n",
       "    </tr>\n",
       "  </thead>\n",
       "  <tbody>\n",
       "    <tr>\n",
       "      <th>0</th>\n",
       "      <td>1</td>\n",
       "      <td>2023-11-24</td>\n",
       "      <td>CUST001</td>\n",
       "      <td>Male</td>\n",
       "      <td>34</td>\n",
       "      <td>Beauty</td>\n",
       "      <td>3</td>\n",
       "      <td>50</td>\n",
       "      <td>150</td>\n",
       "      <td>150</td>\n",
       "    </tr>\n",
       "    <tr>\n",
       "      <th>1</th>\n",
       "      <td>2</td>\n",
       "      <td>2023-02-27</td>\n",
       "      <td>CUST002</td>\n",
       "      <td>Female</td>\n",
       "      <td>26</td>\n",
       "      <td>Clothing</td>\n",
       "      <td>2</td>\n",
       "      <td>500</td>\n",
       "      <td>1000</td>\n",
       "      <td>1000</td>\n",
       "    </tr>\n",
       "    <tr>\n",
       "      <th>2</th>\n",
       "      <td>3</td>\n",
       "      <td>2023-01-13</td>\n",
       "      <td>CUST003</td>\n",
       "      <td>Male</td>\n",
       "      <td>50</td>\n",
       "      <td>Electronics</td>\n",
       "      <td>1</td>\n",
       "      <td>30</td>\n",
       "      <td>30</td>\n",
       "      <td>30</td>\n",
       "    </tr>\n",
       "    <tr>\n",
       "      <th>3</th>\n",
       "      <td>4</td>\n",
       "      <td>2023-05-21</td>\n",
       "      <td>CUST004</td>\n",
       "      <td>Male</td>\n",
       "      <td>37</td>\n",
       "      <td>Clothing</td>\n",
       "      <td>1</td>\n",
       "      <td>500</td>\n",
       "      <td>500</td>\n",
       "      <td>500</td>\n",
       "    </tr>\n",
       "    <tr>\n",
       "      <th>4</th>\n",
       "      <td>5</td>\n",
       "      <td>2023-05-06</td>\n",
       "      <td>CUST005</td>\n",
       "      <td>Male</td>\n",
       "      <td>30</td>\n",
       "      <td>Beauty</td>\n",
       "      <td>2</td>\n",
       "      <td>50</td>\n",
       "      <td>100</td>\n",
       "      <td>100</td>\n",
       "    </tr>\n",
       "  </tbody>\n",
       "</table>\n",
       "</div>"
      ],
      "text/plain": [
       "   Transaction ID        Date Customer ID  Gender  Age Product Category  \\\n",
       "0               1  2023-11-24     CUST001    Male   34           Beauty   \n",
       "1               2  2023-02-27     CUST002  Female   26         Clothing   \n",
       "2               3  2023-01-13     CUST003    Male   50      Electronics   \n",
       "3               4  2023-05-21     CUST004    Male   37         Clothing   \n",
       "4               5  2023-05-06     CUST005    Male   30           Beauty   \n",
       "\n",
       "   Quantity  Price per Unit  Total Amount  Ingreso Total  \n",
       "0         3              50           150            150  \n",
       "1         2             500          1000           1000  \n",
       "2         1              30            30             30  \n",
       "3         1             500           500            500  \n",
       "4         2              50           100            100  "
      ]
     },
     "execution_count": 30,
     "metadata": {},
     "output_type": "execute_result"
    }
   ],
   "source": [
    "# Tu código aquí\n",
    "df_retail['Ingreso Total'] = df_retail['Price per Unit'] * df_retail['Quantity']\n",
    "df_retail.head()"
   ]
  },
  {
   "cell_type": "markdown",
   "id": "f370183a",
   "metadata": {},
   "source": [
    "**Pregunta:** Usa una tabla dinámica para comparar ingresos por tienda y por producto."
   ]
  },
  {
   "cell_type": "code",
   "execution_count": 32,
   "id": "9e76f6c2",
   "metadata": {},
   "outputs": [
    {
     "data": {
      "text/html": [
       "<div>\n",
       "<style scoped>\n",
       "    .dataframe tbody tr th:only-of-type {\n",
       "        vertical-align: middle;\n",
       "    }\n",
       "\n",
       "    .dataframe tbody tr th {\n",
       "        vertical-align: top;\n",
       "    }\n",
       "\n",
       "    .dataframe thead th {\n",
       "        text-align: right;\n",
       "    }\n",
       "</style>\n",
       "<table border=\"1\" class=\"dataframe\">\n",
       "  <thead>\n",
       "    <tr style=\"text-align: right;\">\n",
       "      <th>Product Category</th>\n",
       "      <th>Beauty</th>\n",
       "      <th>Clothing</th>\n",
       "      <th>Electronics</th>\n",
       "    </tr>\n",
       "    <tr>\n",
       "      <th>Customer ID</th>\n",
       "      <th></th>\n",
       "      <th></th>\n",
       "      <th></th>\n",
       "    </tr>\n",
       "  </thead>\n",
       "  <tbody>\n",
       "    <tr>\n",
       "      <th>CUST001</th>\n",
       "      <td>150</td>\n",
       "      <td>0</td>\n",
       "      <td>0</td>\n",
       "    </tr>\n",
       "    <tr>\n",
       "      <th>CUST002</th>\n",
       "      <td>0</td>\n",
       "      <td>1000</td>\n",
       "      <td>0</td>\n",
       "    </tr>\n",
       "    <tr>\n",
       "      <th>CUST003</th>\n",
       "      <td>0</td>\n",
       "      <td>0</td>\n",
       "      <td>30</td>\n",
       "    </tr>\n",
       "    <tr>\n",
       "      <th>CUST004</th>\n",
       "      <td>0</td>\n",
       "      <td>500</td>\n",
       "      <td>0</td>\n",
       "    </tr>\n",
       "    <tr>\n",
       "      <th>CUST005</th>\n",
       "      <td>100</td>\n",
       "      <td>0</td>\n",
       "      <td>0</td>\n",
       "    </tr>\n",
       "    <tr>\n",
       "      <th>...</th>\n",
       "      <td>...</td>\n",
       "      <td>...</td>\n",
       "      <td>...</td>\n",
       "    </tr>\n",
       "    <tr>\n",
       "      <th>CUST995</th>\n",
       "      <td>0</td>\n",
       "      <td>30</td>\n",
       "      <td>0</td>\n",
       "    </tr>\n",
       "    <tr>\n",
       "      <th>CUST996</th>\n",
       "      <td>0</td>\n",
       "      <td>50</td>\n",
       "      <td>0</td>\n",
       "    </tr>\n",
       "    <tr>\n",
       "      <th>CUST997</th>\n",
       "      <td>90</td>\n",
       "      <td>0</td>\n",
       "      <td>0</td>\n",
       "    </tr>\n",
       "    <tr>\n",
       "      <th>CUST998</th>\n",
       "      <td>100</td>\n",
       "      <td>0</td>\n",
       "      <td>0</td>\n",
       "    </tr>\n",
       "    <tr>\n",
       "      <th>CUST999</th>\n",
       "      <td>0</td>\n",
       "      <td>0</td>\n",
       "      <td>150</td>\n",
       "    </tr>\n",
       "  </tbody>\n",
       "</table>\n",
       "<p>1000 rows × 3 columns</p>\n",
       "</div>"
      ],
      "text/plain": [
       "Product Category  Beauty  Clothing  Electronics\n",
       "Customer ID                                    \n",
       "CUST001              150         0            0\n",
       "CUST002                0      1000            0\n",
       "CUST003                0         0           30\n",
       "CUST004                0       500            0\n",
       "CUST005              100         0            0\n",
       "...                  ...       ...          ...\n",
       "CUST995                0        30            0\n",
       "CUST996                0        50            0\n",
       "CUST997               90         0            0\n",
       "CUST998              100         0            0\n",
       "CUST999                0         0          150\n",
       "\n",
       "[1000 rows x 3 columns]"
      ]
     },
     "execution_count": 32,
     "metadata": {},
     "output_type": "execute_result"
    }
   ],
   "source": [
    "# Tu código aquí\n",
    "tabla_comparacion = pd.pivot_table(df_retail,\n",
    "                                   values='Ingreso Total',\n",
    "                                   index='Customer ID',\n",
    "                                   columns='Product Category',\n",
    "                                   aggfunc='sum',\n",
    "                                   fill_value=0)\n",
    "tabla_comparacion"
   ]
  },
  {
   "cell_type": "markdown",
   "id": "2edf618c",
   "metadata": {},
   "source": [
    "## 📈 Dummy Advertising and Sales Data"
   ]
  },
  {
   "cell_type": "markdown",
   "id": "26a5c26d",
   "metadata": {},
   "source": [
    "🔗 Dataset disponible en: [https://www.kaggle.com/datasets/harrimansaragih/dummy-advertising-and-sales-data?utm_source=chatgpt.com](https://www.kaggle.com/datasets/harrimansaragih/dummy-advertising-and-sales-data?utm_source=chatgpt.com)"
   ]
  },
  {
   "cell_type": "markdown",
   "id": "ad70e47d",
   "metadata": {},
   "source": [
    "**Pregunta:** ¿Cuál es el gasto promedio en publicidad por canal (TV, Radio, Periódico)?"
   ]
  },
  {
   "cell_type": "code",
   "execution_count": null,
   "id": "a1bb9a59",
   "metadata": {},
   "outputs": [],
   "source": [
    "# Tu código aquí"
   ]
  },
  {
   "cell_type": "markdown",
   "id": "e7fea9b5",
   "metadata": {},
   "source": [
    "**Pregunta:** ¿Existe correlación entre el presupuesto publicitario y las ventas?"
   ]
  },
  {
   "cell_type": "code",
   "execution_count": null,
   "id": "7c7b12a7",
   "metadata": {},
   "outputs": [],
   "source": [
    "# Tu código aquí"
   ]
  },
  {
   "cell_type": "markdown",
   "id": "8bee9c70",
   "metadata": {},
   "source": [
    "**Pregunta:** ¿Qué campañas tienen ventas superiores a la media?"
   ]
  },
  {
   "cell_type": "code",
   "execution_count": null,
   "id": "dc35b9fc",
   "metadata": {},
   "outputs": [],
   "source": [
    "# Tu código aquí"
   ]
  },
  {
   "cell_type": "markdown",
   "id": "e0057c81",
   "metadata": {},
   "source": [
    "**Pregunta:** Filtra las campañas con publicidad en TV > 200 y Radio > 20."
   ]
  },
  {
   "cell_type": "code",
   "execution_count": null,
   "id": "79fec181",
   "metadata": {},
   "outputs": [],
   "source": [
    "# Tu código aquí"
   ]
  },
  {
   "cell_type": "markdown",
   "id": "fb4bd8b6",
   "metadata": {},
   "source": [
    "**Pregunta:** Agrupa por canal publicitario y calcula la media de ventas."
   ]
  },
  {
   "cell_type": "code",
   "execution_count": null,
   "id": "0e0d6662",
   "metadata": {},
   "outputs": [],
   "source": [
    "# Tu código aquí"
   ]
  },
  {
   "cell_type": "markdown",
   "id": "33653619",
   "metadata": {},
   "source": [
    "**Pregunta:** Crea una columna de ROI estimado usando una fórmula simple."
   ]
  },
  {
   "cell_type": "code",
   "execution_count": null,
   "id": "054ad8d4",
   "metadata": {},
   "outputs": [],
   "source": [
    "# Tu código aquí"
   ]
  },
  {
   "cell_type": "markdown",
   "id": "0cbbc592",
   "metadata": {},
   "source": [
    "**Pregunta:** Realiza una pivot_table para ver ventas promedio por cada tipo de canal."
   ]
  },
  {
   "cell_type": "code",
   "execution_count": null,
   "id": "2fd172f5",
   "metadata": {},
   "outputs": [],
   "source": [
    "# Tu código aquí"
   ]
  },
  {
   "cell_type": "markdown",
   "id": "29509792",
   "metadata": {},
   "source": [
    "## 🎬 The Movies Dataset"
   ]
  },
  {
   "cell_type": "markdown",
   "id": "de0b2ee1",
   "metadata": {},
   "source": [
    "🔗 Dataset disponible en: [https://www.kaggle.com/datasets/rounakbanik/the-movies-dataset?utm_source=chatgpt.com](https://www.kaggle.com/datasets/rounakbanik/the-movies-dataset?utm_source=chatgpt.com)"
   ]
  },
  {
   "cell_type": "markdown",
   "id": "e51caea6",
   "metadata": {},
   "source": [
    "**Pregunta:** ¿Cuáles son las películas con mayor presupuesto?"
   ]
  },
  {
   "cell_type": "code",
   "execution_count": null,
   "id": "bd22d5af",
   "metadata": {},
   "outputs": [],
   "source": [
    "# Tu código aquí"
   ]
  },
  {
   "cell_type": "markdown",
   "id": "4e333b7d",
   "metadata": {},
   "source": [
    "**Pregunta:** ¿Qué películas obtuvieron mayor ganancia (ingresos - presupuesto)?"
   ]
  },
  {
   "cell_type": "code",
   "execution_count": null,
   "id": "7100e36f",
   "metadata": {},
   "outputs": [],
   "source": [
    "# Tu código aquí"
   ]
  },
  {
   "cell_type": "markdown",
   "id": "165ce1f0",
   "metadata": {},
   "source": [
    "**Pregunta:** ¿Cuántas películas hay por género?"
   ]
  },
  {
   "cell_type": "code",
   "execution_count": null,
   "id": "3faad1d1",
   "metadata": {},
   "outputs": [],
   "source": [
    "# Tu código aquí"
   ]
  },
  {
   "cell_type": "markdown",
   "id": "aac0319c",
   "metadata": {},
   "source": [
    "**Pregunta:** ¿Existen películas con presupuesto o ingresos nulos?"
   ]
  },
  {
   "cell_type": "code",
   "execution_count": null,
   "id": "2f114905",
   "metadata": {},
   "outputs": [],
   "source": [
    "# Tu código aquí"
   ]
  },
  {
   "cell_type": "markdown",
   "id": "c6fcf2bc",
   "metadata": {},
   "source": [
    "**Pregunta:** Crea una nueva columna de rentabilidad (ganancia/presupuesto)."
   ]
  },
  {
   "cell_type": "code",
   "execution_count": null,
   "id": "be53a91d",
   "metadata": {},
   "outputs": [],
   "source": [
    "# Tu código aquí"
   ]
  },
  {
   "cell_type": "markdown",
   "id": "d5676dda",
   "metadata": {},
   "source": [
    "**Pregunta:** Agrupa por año de lanzamiento y calcula ingresos promedio."
   ]
  },
  {
   "cell_type": "code",
   "execution_count": null,
   "id": "9b0304a0",
   "metadata": {},
   "outputs": [],
   "source": [
    "# Tu código aquí"
   ]
  },
  {
   "cell_type": "markdown",
   "id": "6584ece9",
   "metadata": {},
   "source": [
    "**Pregunta:** Realiza una tabla dinámica que compare ingresos por género y año."
   ]
  },
  {
   "cell_type": "code",
   "execution_count": null,
   "id": "a50ac86d",
   "metadata": {},
   "outputs": [],
   "source": [
    "# Tu código aquí"
   ]
  },
  {
   "cell_type": "markdown",
   "id": "3b4f305a",
   "metadata": {},
   "source": [
    "## 🌦️ Climate Insights Dataset"
   ]
  },
  {
   "cell_type": "markdown",
   "id": "52a90026",
   "metadata": {},
   "source": [
    "🔗 Dataset disponible en: [https://www.kaggle.com/datasets/goyaladi/climate-insights-dataset?utm_source=chatgpt.com](https://www.kaggle.com/datasets/goyaladi/climate-insights-dataset?utm_source=chatgpt.com)"
   ]
  },
  {
   "cell_type": "markdown",
   "id": "ecca5780",
   "metadata": {},
   "source": [
    "**Pregunta:** ¿Cuántos registros hay por año?"
   ]
  },
  {
   "cell_type": "code",
   "execution_count": null,
   "id": "9231b5f3",
   "metadata": {},
   "outputs": [],
   "source": [
    "# Tu código aquí"
   ]
  },
  {
   "cell_type": "markdown",
   "id": "58ab7dce",
   "metadata": {},
   "source": [
    "**Pregunta:** ¿Cuál es la temperatura media mensual más alta y más baja?"
   ]
  },
  {
   "cell_type": "code",
   "execution_count": null,
   "id": "1daf20b0",
   "metadata": {},
   "outputs": [],
   "source": [
    "# Tu código aquí"
   ]
  },
  {
   "cell_type": "markdown",
   "id": "95b01411",
   "metadata": {},
   "source": [
    "**Pregunta:** ¿Qué meses tienen mayor precipitación?"
   ]
  },
  {
   "cell_type": "code",
   "execution_count": null,
   "id": "efb74993",
   "metadata": {},
   "outputs": [],
   "source": [
    "# Tu código aquí"
   ]
  },
  {
   "cell_type": "markdown",
   "id": "adc9f249",
   "metadata": {},
   "source": [
    "**Pregunta:** ¿Existen valores faltantes en alguna columna?"
   ]
  },
  {
   "cell_type": "code",
   "execution_count": null,
   "id": "1dce4e97",
   "metadata": {},
   "outputs": [],
   "source": [
    "# Tu código aquí"
   ]
  },
  {
   "cell_type": "markdown",
   "id": "10731388",
   "metadata": {},
   "source": [
    "**Pregunta:** Agrupa por estación del año y calcula la media de temperatura."
   ]
  },
  {
   "cell_type": "code",
   "execution_count": null,
   "id": "4c006a3d",
   "metadata": {},
   "outputs": [],
   "source": [
    "# Tu código aquí"
   ]
  },
  {
   "cell_type": "markdown",
   "id": "f77184d2",
   "metadata": {},
   "source": [
    "**Pregunta:** Crea una columna que clasifique los días como 'calurosos' o 'templados'."
   ]
  },
  {
   "cell_type": "code",
   "execution_count": null,
   "id": "8da1b54b",
   "metadata": {},
   "outputs": [],
   "source": [
    "# Tu código aquí"
   ]
  },
  {
   "cell_type": "markdown",
   "id": "4dac89b0",
   "metadata": {},
   "source": [
    "**Pregunta:** Genera una pivot_table que muestre la temperatura promedio por año y mes."
   ]
  },
  {
   "cell_type": "code",
   "execution_count": null,
   "id": "510b6d89",
   "metadata": {},
   "outputs": [],
   "source": [
    "# Tu código aquí"
   ]
  }
 ],
 "metadata": {
  "kernelspec": {
   "display_name": "Python 3",
   "language": "python",
   "name": "python3"
  },
  "language_info": {
   "codemirror_mode": {
    "name": "ipython",
    "version": 3
   },
   "file_extension": ".py",
   "mimetype": "text/x-python",
   "name": "python",
   "nbconvert_exporter": "python",
   "pygments_lexer": "ipython3",
   "version": "3.13.3"
  }
 },
 "nbformat": 4,
 "nbformat_minor": 5
}
